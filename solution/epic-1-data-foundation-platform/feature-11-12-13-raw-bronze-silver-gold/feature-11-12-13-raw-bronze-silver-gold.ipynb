{
 "cells": [
  {
   "cell_type": "markdown",
   "metadata": {
    "application/vnd.databricks.v1+cell": {
     "cellMetadata": {},
     "inputWidgets": {},
     "nuid": "ef3a3122-04cb-4562-b4a6-e7c5f81e5e0c",
     "showTitle": false,
     "tableResultSettingsMap": {},
     "title": ""
    }
   },
   "source": [
    "# Epic 1 – Data Foundation Platform"
   ]
  },
  {
   "cell_type": "markdown",
   "metadata": {
    "application/vnd.databricks.v1+cell": {
     "cellMetadata": {},
     "inputWidgets": {},
     "nuid": "96a790bf-0f78-4f9a-b26a-8e069d092aeb",
     "showTitle": false,
     "tableResultSettingsMap": {},
     "title": ""
    }
   },
   "source": [
    "## Feature 1.1: Raw Data Ingestion (Sprint 1)\n"
   ]
  },
  {
   "cell_type": "markdown",
   "metadata": {
    "application/vnd.databricks.v1+cell": {
     "cellMetadata": {},
     "inputWidgets": {},
     "nuid": "a9fb4c67-e2df-46e7-8679-006f8d1676a5",
     "showTitle": false,
     "tableResultSettingsMap": {},
     "title": ""
    }
   },
   "source": [
    "### 1. 🟥 Create raw landing folders in DBFS (/FileStore/retail/raw/contoso/, /FileStore/retail/raw/eurostyle/) and document paths in the runbook.\n",
    "[DBX-DE-Assoc][Medallion][Platform]"
   ]
  },
  {
   "cell_type": "code",
   "execution_count": 0,
   "metadata": {
    "application/vnd.databricks.v1+cell": {
     "cellMetadata": {
      "byteLimit": 2048000,
      "rowLimit": 10000
     },
     "inputWidgets": {},
     "nuid": "dfadd727-e0d4-440a-b3cd-9f9c39e427eb",
     "showTitle": false,
     "tableResultSettingsMap": {},
     "title": ""
    }
   },
   "outputs": [],
   "source": [
    "# 1) 🟥 Create raw landing folders in DBFS (/FileStore/retail/raw/contoso/, /FileStore/retail/raw/eurostyle/) and document paths in the runbook.\n",
    "# DBFS base raw directory\n",
    "base_raw = \"/FileStore/retail/raw\"\n",
    "\n",
    "# Create subfolders for Contoso and Eurostyle brands\n",
    "paths = [\n",
    "    f\"{base_raw}/contoso/\",\n",
    "    f\"{base_raw}/eurostyle/\"\n",
    "]\n",
    "\n",
    "for path in paths:\n",
    "    dbutils.fs.mkdirs(path)\n",
    "\n",
    "# Display content of base raw folder\n",
    "display(dbutils.fs.ls(base_raw))"
   ]
  },
  {
   "cell_type": "markdown",
   "metadata": {
    "application/vnd.databricks.v1+cell": {
     "cellMetadata": {},
     "inputWidgets": {},
     "nuid": "6028718c-a59b-4c4a-8fe4-965b4769ce72",
     "showTitle": false,
     "tableResultSettingsMap": {},
     "title": ""
    }
   },
   "source": [
    "### 2. 🟥 Upload EuroStyle/Contoso CSVs to the raw path; note file names, counts, and approximate sizes.\n",
    "[DBX-DE-Assoc][Medallion] "
   ]
  },
  {
   "cell_type": "code",
   "execution_count": 0,
   "metadata": {
    "application/vnd.databricks.v1+cell": {
     "cellMetadata": {
      "byteLimit": 2048000,
      "implicitDf": true,
      "rowLimit": 10000
     },
     "inputWidgets": {},
     "nuid": "1589ba0a-bfe6-4868-875c-f8a8b58966bb",
     "showTitle": false,
     "tableResultSettingsMap": {},
     "title": ""
    }
   },
   "outputs": [],
   "source": [
    "%sql\n",
    "DESCRIBE EXTERNAL LOCATION loc_unitycatalog_108;"
   ]
  },
  {
   "cell_type": "code",
   "execution_count": 0,
   "metadata": {
    "application/vnd.databricks.v1+cell": {
     "cellMetadata": {
      "byteLimit": 2048000,
      "implicitDf": true,
      "rowLimit": 10000
     },
     "inputWidgets": {},
     "nuid": "bd5092cd-d76a-404f-bb0b-40caf3de49b4",
     "showTitle": false,
     "tableResultSettingsMap": {},
     "title": ""
    }
   },
   "outputs": [],
   "source": [
    "%sql\n",
    "SHOW CATALOGS;"
   ]
  },
  {
   "cell_type": "code",
   "execution_count": 0,
   "metadata": {
    "application/vnd.databricks.v1+cell": {
     "cellMetadata": {
      "byteLimit": 2048000,
      "implicitDf": true,
      "rowLimit": 10000
     },
     "inputWidgets": {},
     "nuid": "78aee0cc-7479-4fd2-9bba-f0230391ac94",
     "showTitle": false,
     "tableResultSettingsMap": {},
     "title": ""
    }
   },
   "outputs": [],
   "source": [
    "%sql\n",
    "DESCRIBE STORAGE CREDENTIAL cred_stescontosoma;"
   ]
  },
  {
   "cell_type": "code",
   "execution_count": 0,
   "metadata": {
    "application/vnd.databricks.v1+cell": {
     "cellMetadata": {
      "byteLimit": 2048000,
      "implicitDf": true,
      "rowLimit": 10000
     },
     "inputWidgets": {},
     "nuid": "dc51edc0-2fa3-456d-9cd0-627976901ddc",
     "showTitle": false,
     "tableResultSettingsMap": {},
     "title": ""
    }
   },
   "outputs": [],
   "source": [
    "\n"
   ]
  },
  {
   "cell_type": "code",
   "execution_count": 0,
   "metadata": {
    "application/vnd.databricks.v1+cell": {
     "cellMetadata": {
      "byteLimit": 2048000,
      "implicitDf": true,
      "rowLimit": 10000
     },
     "inputWidgets": {},
     "nuid": "45f08f72-7d15-433b-8c78-73a0fdcd15b3",
     "showTitle": false,
     "tableResultSettingsMap": {},
     "title": ""
    }
   },
   "outputs": [],
   "source": [
    "%sql\n",
    "CREATE CATALOG IF NOT EXISTS eurostyle\n",
    "MANAGED LOCATION 'abfss://unity-catalog@stescontosoma108.dfs.core.windows.net/eurostyle';\n",
    "\n",
    "CREATE CATALOG IF NOT EXISTS contoso\n",
    "MANAGED LOCATION 'abfss://unity-catalog@stescontosoma108.dfs.core.windows.net/contoso';\n",
    "\n",
    "SHOW CATALOGS;"
   ]
  },
  {
   "cell_type": "code",
   "execution_count": 0,
   "metadata": {
    "application/vnd.databricks.v1+cell": {
     "cellMetadata": {
      "byteLimit": 2048000,
      "implicitDf": true,
      "rowLimit": 10000
     },
     "inputWidgets": {},
     "nuid": "a517bbcf-c664-4bf3-9d0b-0ba3f89136c2",
     "showTitle": false,
     "tableResultSettingsMap": {},
     "title": ""
    }
   },
   "outputs": [],
   "source": [
    "%sql\n",
    "\n",
    "-- External Location for Eurostyle / raw\n",
    "CREATE EXTERNAL LOCATION IF NOT EXISTS loc_eurostyle_raw\n",
    "URL 'abfss://raw@stescontosoma108.dfs.core.windows.net/eurostyle'\n",
    "WITH (STORAGE CREDENTIAL cred_stescontosoma)\n",
    "COMMENT 'Eurostyle Raw layer';\n",
    "\n",
    "-- External Location for Contoso / raw\n",
    "CREATE EXTERNAL LOCATION IF NOT EXISTS loc_contoso_raw\n",
    "URL 'abfss://raw@stescontosoma108.dfs.core.windows.net/contoso'\n",
    "WITH (STORAGE CREDENTIAL cred_stescontosoma)\n",
    "COMMENT 'Contoso Raw layer';\n",
    "\n",
    "-- Eurostyle\n",
    "CREATE EXTERNAL LOCATION IF NOT EXISTS loc_eurostyle_bronze\n",
    "URL 'abfss://bronze@stescontosoma108.dfs.core.windows.net/eurostyle'\n",
    "WITH (STORAGE CREDENTIAL cred_stescontosoma)\n",
    "COMMENT 'Eurostyle Bronze layer';\n",
    "\n",
    "CREATE EXTERNAL LOCATION IF NOT EXISTS loc_eurostyle_silver\n",
    "URL 'abfss://silver@stescontosoma108.dfs.core.windows.net/eurostyle'\n",
    "WITH (STORAGE CREDENTIAL cred_stescontosoma)\n",
    "COMMENT 'Eurostyle Silver layer';\n",
    "\n",
    "CREATE EXTERNAL LOCATION IF NOT EXISTS loc_eurostyle_gold\n",
    "URL 'abfss://gold@stescontosoma108.dfs.core.windows.net/eurostyle'\n",
    "WITH (STORAGE CREDENTIAL cred_stescontosoma)\n",
    "COMMENT 'Eurostyle Gold layer';\n",
    "\n",
    "-- Contoso\n",
    "CREATE EXTERNAL LOCATION IF NOT EXISTS loc_contoso_bronze\n",
    "URL 'abfss://bronze@stescontosoma108.dfs.core.windows.net/contoso'\n",
    "WITH (STORAGE CREDENTIAL cred_stescontosoma)\n",
    "COMMENT 'Contoso Bronze layer';\n",
    "\n",
    "CREATE EXTERNAL LOCATION IF NOT EXISTS loc_contoso_silver\n",
    "URL 'abfss://silver@stescontosoma108.dfs.core.windows.net/contoso'\n",
    "WITH (STORAGE CREDENTIAL cred_stescontosoma)\n",
    "COMMENT 'Contoso Silver layer';\n",
    "\n",
    "CREATE EXTERNAL LOCATION IF NOT EXISTS loc_contoso_gold\n",
    "URL 'abfss://gold@stescontosoma108.dfs.core.windows.net/contoso'\n",
    "WITH (STORAGE CREDENTIAL cred_stescontosoma)\n",
    "COMMENT 'Contoso Gold layer';\n"
   ]
  },
  {
   "cell_type": "code",
   "execution_count": 0,
   "metadata": {
    "application/vnd.databricks.v1+cell": {
     "cellMetadata": {
      "byteLimit": 2048000,
      "implicitDf": true,
      "rowLimit": 10000
     },
     "inputWidgets": {},
     "nuid": "a88be370-b5a9-4870-8bb7-a2266fefc6af",
     "showTitle": false,
     "tableResultSettingsMap": {},
     "title": ""
    }
   },
   "outputs": [],
   "source": [
    "%sql\n",
    "SHOW EXTERNAL LOCATIONS;"
   ]
  },
  {
   "cell_type": "code",
   "execution_count": 0,
   "metadata": {
    "application/vnd.databricks.v1+cell": {
     "cellMetadata": {
      "byteLimit": 2048000,
      "implicitDf": true,
      "rowLimit": 10000
     },
     "inputWidgets": {},
     "nuid": "d766e3c1-4c17-428e-a8e3-74702fa60fc8",
     "showTitle": false,
     "tableResultSettingsMap": {},
     "title": ""
    }
   },
   "outputs": [],
   "source": [
    "%sql\n",
    "-- Eurostyle schemas\n",
    "CREATE SCHEMA IF NOT EXISTS eurostyle.bronze\n",
    "MANAGED LOCATION 'abfss://bronze@stescontosoma108.dfs.core.windows.net/eurostyle';\n",
    "\n",
    "CREATE SCHEMA IF NOT EXISTS eurostyle.silver\n",
    "MANAGED LOCATION 'abfss://silver@stescontosoma108.dfs.core.windows.net/eurostyle';\n",
    "\n",
    "CREATE SCHEMA IF NOT EXISTS eurostyle.gold\n",
    "MANAGED LOCATION 'abfss://gold@stescontosoma108.dfs.core.windows.net/eurostyle';\n",
    "\n",
    "-- Contoso schemas\n",
    "CREATE SCHEMA IF NOT EXISTS contoso.bronze\n",
    "MANAGED LOCATION 'abfss://bronze@stescontosoma108.dfs.core.windows.net/contoso';\n",
    "\n",
    "CREATE SCHEMA IF NOT EXISTS contoso.silver\n",
    "MANAGED LOCATION 'abfss://silver@stescontosoma108.dfs.core.windows.net/contoso';\n",
    "\n",
    "CREATE SCHEMA IF NOT EXISTS contoso.gold\n",
    "MANAGED LOCATION 'abfss://gold@stescontosoma108.dfs.core.windows.net/contoso';"
   ]
  },
  {
   "cell_type": "code",
   "execution_count": 0,
   "metadata": {
    "application/vnd.databricks.v1+cell": {
     "cellMetadata": {
      "byteLimit": 2048000,
      "implicitDf": true,
      "rowLimit": 10000
     },
     "inputWidgets": {},
     "nuid": "a005d098-98dd-4b1f-adbc-8df44bea7581",
     "showTitle": false,
     "tableResultSettingsMap": {},
     "title": ""
    }
   },
   "outputs": [],
   "source": [
    "%sql\n",
    "SHOW SCHEMAS IN eurostyle;"
   ]
  },
  {
   "cell_type": "code",
   "execution_count": 0,
   "metadata": {
    "application/vnd.databricks.v1+cell": {
     "cellMetadata": {
      "byteLimit": 2048000,
      "implicitDf": true,
      "rowLimit": 10000
     },
     "inputWidgets": {},
     "nuid": "3dfc34d3-4fda-4a05-9de9-ad4d343356a2",
     "showTitle": false,
     "tableResultSettingsMap": {},
     "title": ""
    }
   },
   "outputs": [],
   "source": [
    "%sql\n",
    "DESCRIBE SCHEMA eurostyle.bronze;"
   ]
  },
  {
   "cell_type": "code",
   "execution_count": 0,
   "metadata": {
    "application/vnd.databricks.v1+cell": {
     "cellMetadata": {
      "byteLimit": 2048000,
      "implicitDf": true,
      "rowLimit": 10000
     },
     "inputWidgets": {},
     "nuid": "1633a342-3307-4ee3-898e-824d92ce7623",
     "showTitle": false,
     "tableResultSettingsMap": {},
     "title": ""
    }
   },
   "outputs": [],
   "source": [
    "%sql\n",
    "GRANT USAGE, CREATE ON SCHEMA eurostyle.bronze TO `yves.schillings@secloudis.com`;\n",
    "GRANT USAGE, CREATE ON SCHEMA eurostyle.silver TO `yves.schillings@secloudis.com`;\n",
    "GRANT USAGE, CREATE ON SCHEMA eurostyle.gold   TO `yves.schillings@secloudis.com`;\n",
    "\n",
    "GRANT USAGE, CREATE ON SCHEMA contoso.bronze TO `yves.schillings@secloudis.com`;\n",
    "GRANT USAGE, CREATE ON SCHEMA contoso.silver TO `yves.schillings@secloudis.com`;\n",
    "GRANT USAGE, CREATE ON SCHEMA contoso.gold   TO `yves.schillings@secloudis.com`;"
   ]
  },
  {
   "cell_type": "code",
   "execution_count": 0,
   "metadata": {
    "application/vnd.databricks.v1+cell": {
     "cellMetadata": {
      "byteLimit": 2048000,
      "implicitDf": true,
      "rowLimit": 10000
     },
     "inputWidgets": {},
     "nuid": "16ab3606-7e21-466f-9dcb-df293c031acb",
     "showTitle": false,
     "tableResultSettingsMap": {},
     "title": ""
    }
   },
   "outputs": [],
   "source": [
    "%sql\n",
    "-- Eurostyle Bronze tables\n",
    "USE CATALOG eurostyle;\n",
    "USE SCHEMA bronze;\n",
    "\n",
    "CREATE TABLE IF NOT EXISTS campaigns\n",
    "USING CSV\n",
    "OPTIONS (\n",
    "  path \"abfss://raw@stescontosoma108.dfs.core.windows.net/eurostyle/dataset_fashion_store_campaigns.csv\",\n",
    "  header \"true\",\n",
    "  inferSchema \"true\"\n",
    ");\n",
    "\n",
    "CREATE TABLE IF NOT EXISTS channels\n",
    "USING CSV\n",
    "OPTIONS (\n",
    "  path \"abfss://raw@stescontosoma108.dfs.core.windows.net/eurostyle/dataset_fashion_store_channels.csv\",\n",
    "  header \"true\",\n",
    "  inferSchema \"true\"\n",
    ");\n",
    "\n",
    "CREATE TABLE IF NOT EXISTS customers\n",
    "USING CSV\n",
    "OPTIONS (\n",
    "  path \"abfss://raw@stescontosoma108.dfs.core.windows.net/eurostyle/dataset_fashion_store_customers.csv\",\n",
    "  header \"true\",\n",
    "  inferSchema \"true\"\n",
    ");\n",
    "\n",
    "CREATE TABLE IF NOT EXISTS products\n",
    "USING CSV\n",
    "OPTIONS (\n",
    "  path \"abfss://raw@stescontosoma108.dfs.core.windows.net/eurostyle/dataset_fashion_store_products.csv\",\n",
    "  header \"true\",\n",
    "  inferSchema \"true\"\n",
    ");\n",
    "\n",
    "CREATE TABLE IF NOT EXISTS sales\n",
    "USING CSV\n",
    "OPTIONS (\n",
    "  path \"abfss://raw@stescontosoma108.dfs.core.windows.net/eurostyle/dataset_fashion_store_sales.csv\",\n",
    "  header \"true\",\n",
    "  inferSchema \"true\"\n",
    ");\n",
    "\n",
    "CREATE TABLE IF NOT EXISTS salesitems\n",
    "USING CSV\n",
    "OPTIONS (\n",
    "  path \"abfss://raw@stescontosoma108.dfs.core.windows.net/eurostyle/dataset_fashion_store_salesitems.csv\",\n",
    "  header \"true\",\n",
    "  inferSchema \"true\"\n",
    ");\n",
    "\n",
    "CREATE TABLE IF NOT EXISTS stock\n",
    "USING CSV\n",
    "OPTIONS (\n",
    "  path \"abfss://raw@stescontosoma108.dfs.core.windows.net/eurostyle/dataset_fashion_store_stock.csv\",\n",
    "  header \"true\",\n",
    "  inferSchema \"true\"\n",
    ");\n",
    "\n",
    "-- Contoso Bronze table\n",
    "USE CATALOG contoso;\n",
    "USE SCHEMA bronze;\n",
    "\n",
    "CREATE TABLE IF NOT EXISTS retail\n",
    "USING CSV\n",
    "OPTIONS (\n",
    "  path \"abfss://raw@stescontosoma108.dfs.core.windows.net/contoso/online_retail_II.csv\",\n",
    "  header \"true\",\n",
    "  inferSchema \"true\"\n",
    ");\n",
    "\n"
   ]
  },
  {
   "cell_type": "code",
   "execution_count": 0,
   "metadata": {
    "application/vnd.databricks.v1+cell": {
     "cellMetadata": {
      "byteLimit": 2048000,
      "implicitDf": true,
      "rowLimit": 10000
     },
     "inputWidgets": {},
     "nuid": "c50c089b-c588-4ee7-8543-7427a6d7e095",
     "showTitle": false,
     "tableResultSettingsMap": {},
     "title": ""
    }
   },
   "outputs": [],
   "source": [
    "%sql\n",
    "SHOW TABLES IN eurostyle.bronze;"
   ]
  },
  {
   "cell_type": "code",
   "execution_count": 0,
   "metadata": {
    "application/vnd.databricks.v1+cell": {
     "cellMetadata": {
      "byteLimit": 2048000,
      "implicitDf": true,
      "rowLimit": 10000
     },
     "inputWidgets": {},
     "nuid": "b5d79fb0-05a4-4eef-a842-41f9846ee5d0",
     "showTitle": false,
     "tableResultSettingsMap": {},
     "title": ""
    }
   },
   "outputs": [],
   "source": [
    "%sql\n",
    "SHOW TABLES IN contoso.bronze;"
   ]
  },
  {
   "cell_type": "code",
   "execution_count": 0,
   "metadata": {
    "application/vnd.databricks.v1+cell": {
     "cellMetadata": {
      "byteLimit": 2048000,
      "implicitDf": true,
      "rowLimit": 10000
     },
     "inputWidgets": {},
     "nuid": "f5b2f740-012c-4887-8dc7-e64121ca4c00",
     "showTitle": false,
     "tableResultSettingsMap": {},
     "title": ""
    }
   },
   "outputs": [],
   "source": [
    "%sql\n",
    "SELECT * FROM eurostyle.bronze.customers LIMIT 100;"
   ]
  },
  {
   "cell_type": "code",
   "execution_count": 0,
   "metadata": {
    "application/vnd.databricks.v1+cell": {
     "cellMetadata": {
      "byteLimit": 2048000,
      "implicitDf": true,
      "rowLimit": 10000
     },
     "inputWidgets": {},
     "nuid": "80290ea9-4ef3-4e06-b592-2b0dc07b7e90",
     "showTitle": false,
     "tableResultSettingsMap": {},
     "title": ""
    }
   },
   "outputs": [],
   "source": [
    "%sql\n",
    "SELECT * FROM contoso.bronze.retail LIMIT 100;"
   ]
  },
  {
   "cell_type": "markdown",
   "metadata": {
    "application/vnd.databricks.v1+cell": {
     "cellMetadata": {},
     "inputWidgets": {},
     "nuid": "ca3ae7d2-274d-4a7f-be67-27c41bd37533",
     "showTitle": false,
     "tableResultSettingsMap": {},
     "title": ""
    }
   },
   "source": [
    "### 3. 🟥 Ingest Contoso to Delta Bronze with lineage columns (ingest_ts, source_system='EuroStyle') as bronze.sales_Contoso\n",
    "[DBX-DE-Assoc][Delta-Basics][Autoloader][CopyInto][Medallion]"
   ]
  },
  {
   "cell_type": "code",
   "execution_count": 0,
   "metadata": {
    "application/vnd.databricks.v1+cell": {
     "cellMetadata": {
      "byteLimit": 2048000,
      "implicitDf": true,
      "rowLimit": 10000
     },
     "inputWidgets": {},
     "nuid": "a0717dbf-7ba4-404b-930a-8cf9082d17a8",
     "showTitle": false,
     "tableResultSettingsMap": {},
     "title": ""
    }
   },
   "outputs": [],
   "source": [
    "%sql\n",
    "-- Drop the table if it already exists, to avoid conflicts\n",
    "DROP TABLE IF EXISTS eurostyle.bronze.sales;\n",
    "\n",
    "-- Drop the table if it already exists, to avoid conflicts\n",
    "DROP TABLE IF EXISTS contoso.bronze.sales;"
   ]
  },
  {
   "cell_type": "code",
   "execution_count": 0,
   "metadata": {
    "application/vnd.databricks.v1+cell": {
     "cellMetadata": {
      "byteLimit": 2048000,
      "implicitDf": true,
      "rowLimit": 10000
     },
     "inputWidgets": {},
     "nuid": "700cbdad-8a76-4526-902d-b277690b197f",
     "showTitle": false,
     "tableResultSettingsMap": {},
     "title": ""
    }
   },
   "outputs": [],
   "source": [
    "%sql\n",
    "SHOW TABLES IN contoso.bronze;"
   ]
  },
  {
   "cell_type": "code",
   "execution_count": 0,
   "metadata": {
    "application/vnd.databricks.v1+cell": {
     "cellMetadata": {
      "byteLimit": 2048000,
      "implicitDf": true,
      "rowLimit": 10000
     },
     "inputWidgets": {},
     "nuid": "9ac42135-0021-42c4-9a01-18a71eb7198b",
     "showTitle": false,
     "tableResultSettingsMap": {},
     "title": ""
    }
   },
   "outputs": [],
   "source": [
    "%sql\n",
    "SHOW TABLES IN eurostyle.bronze;"
   ]
  },
  {
   "cell_type": "code",
   "execution_count": 0,
   "metadata": {
    "application/vnd.databricks.v1+cell": {
     "cellMetadata": {
      "byteLimit": 2048000,
      "implicitDf": true,
      "rowLimit": 10000
     },
     "inputWidgets": {},
     "nuid": "b04b7f46-5ce6-4c59-8b88-0b3dd321b667",
     "showTitle": false,
     "tableResultSettingsMap": {},
     "title": ""
    }
   },
   "outputs": [],
   "source": [
    "%sql\n",
    "-- Step 3: Ingest Contoso raw sales data into Bronze as Delta table\n",
    "-- Adds lineage columns: ingest_ts (timestamp of ingestion) and source_system (data origin)\n",
    "\n",
    "DROP TABLE IF EXISTS contoso.bronze.retail_Contoso;\n",
    "\n",
    "CREATE TABLE contoso.bronze.sales_Contoso\n",
    "USING DELTA\n",
    "AS\n",
    "SELECT *,\n",
    "       current_timestamp() AS ingest_ts,   -- ingestion timestamp\n",
    "       'Contoso' AS source_system        -- static lineage identifier\n",
    "FROM csv.`abfss://raw@stescontosoma108.dfs.core.windows.net/contoso/online_retail_II.csv`;"
   ]
  },
  {
   "cell_type": "code",
   "execution_count": 0,
   "metadata": {
    "application/vnd.databricks.v1+cell": {
     "cellMetadata": {
      "byteLimit": 2048000,
      "implicitDf": true,
      "rowLimit": 10000
     },
     "inputWidgets": {},
     "nuid": "3aec64b2-f450-4ed3-a556-d9fa72e850d2",
     "showTitle": false,
     "tableResultSettingsMap": {},
     "title": ""
    }
   },
   "outputs": [],
   "source": [
    "%sql\n",
    "SELECT COUNT(*) FROM contoso.bronze.retail_contoso"
   ]
  },
  {
   "cell_type": "code",
   "execution_count": 0,
   "metadata": {
    "application/vnd.databricks.v1+cell": {
     "cellMetadata": {
      "byteLimit": 2048000,
      "implicitDf": true,
      "rowLimit": 10000
     },
     "inputWidgets": {},
     "nuid": "77ab33e9-3d90-42ae-a5ae-08a05d8891f4",
     "showTitle": false,
     "tableResultSettingsMap": {},
     "title": ""
    }
   },
   "outputs": [],
   "source": [
    "%sql\n",
    "-- Step 3: Ingest EuroStyle raw sales data into Bronze as Delta table\n",
    "-- Adds lineage columns: ingest_ts (timestamp of ingestion) and source_system (data origin)\n",
    "\n",
    "DROP TABLE IF EXISTS eurostyle.bronze.sales_EuroStyle;\n",
    "\n",
    "CREATE TABLE eurostyle.bronze.sales_EuroStyle\n",
    "USING DELTA\n",
    "AS\n",
    "SELECT *,\n",
    "       current_timestamp() AS ingest_ts,   -- ingestion timestamp\n",
    "       'EuroStyle' AS source_system        -- static lineage identifier\n",
    "FROM csv.`abfss://raw@stescontosoma108.dfs.core.windows.net/eurostyle/dataset_fashion_store_sales.csv`;\n"
   ]
  },
  {
   "cell_type": "code",
   "execution_count": 0,
   "metadata": {
    "application/vnd.databricks.v1+cell": {
     "cellMetadata": {
      "byteLimit": 2048000,
      "implicitDf": true,
      "rowLimit": 10000
     },
     "inputWidgets": {},
     "nuid": "b344ee61-1208-432e-baa5-8d53b9ba4cf4",
     "showTitle": false,
     "tableResultSettingsMap": {},
     "title": ""
    }
   },
   "outputs": [],
   "source": [
    "%sql\n",
    "SELECT COUNT(*) FROM eurostyle.bronze.sales_EuroStyle;"
   ]
  },
  {
   "cell_type": "code",
   "execution_count": 0,
   "metadata": {
    "application/vnd.databricks.v1+cell": {
     "cellMetadata": {
      "byteLimit": 2048000,
      "implicitDf": true,
      "rowLimit": 10000
     },
     "inputWidgets": {},
     "nuid": "33b15382-fd36-44e3-843e-76b92ac533b5",
     "showTitle": false,
     "tableResultSettingsMap": {},
     "title": ""
    }
   },
   "outputs": [],
   "source": [
    "%sql\n",
    "SELECT * FROM contoso.bronze.retail_contoso LIMIT 100;"
   ]
  },
  {
   "cell_type": "code",
   "execution_count": 0,
   "metadata": {
    "application/vnd.databricks.v1+cell": {
     "cellMetadata": {
      "byteLimit": 2048000,
      "implicitDf": true,
      "rowLimit": 10000
     },
     "inputWidgets": {},
     "nuid": "acb4b833-9bd6-47dc-ab23-cfb7c34d2776",
     "showTitle": false,
     "tableResultSettingsMap": {},
     "title": ""
    }
   },
   "outputs": [],
   "source": [
    "%sql\n",
    "SELECT * FROM eurostyle.bronze.sales_EuroStyle LIMIT 100;"
   ]
  },
  {
   "cell_type": "markdown",
   "metadata": {
    "application/vnd.databricks.v1+cell": {
     "cellMetadata": {},
     "inputWidgets": {},
     "nuid": "43b9db60-2c60-454a-94ae-afbb3564834f",
     "showTitle": false,
     "tableResultSettingsMap": {},
     "title": ""
    }
   },
   "source": [
    "### 4. 🟥 Create a BI-friendly Contoso view bronze.v_sales_contoso with trimmed/typed columns for Power BI DirectQuery.\n",
    "[DBX-DA-Assoc][SQL-Basics][Dashboards]"
   ]
  },
  {
   "cell_type": "code",
   "execution_count": 0,
   "metadata": {
    "application/vnd.databricks.v1+cell": {
     "cellMetadata": {
      "byteLimit": 2048000,
      "implicitDf": true,
      "rowLimit": 10000
     },
     "inputWidgets": {},
     "nuid": "74ad63ef-e11b-4aab-998e-008348f91166",
     "showTitle": false,
     "tableResultSettingsMap": {},
     "title": ""
    }
   },
   "outputs": [],
   "source": [
    "%sql\n",
    "CREATE OR REPLACE VIEW contoso.bronze.v_sales_contoso AS\n",
    "SELECT\n",
    "    CAST(TRIM(_c0) AS STRING)          AS invoice_no,\n",
    "    CAST(TRIM(_c1) AS STRING)          AS stock_code,\n",
    "    TRIM(_c2)                          AS description,\n",
    "    try_cast(_c3 AS INT)               AS quantity,\n",
    "    try_cast(_c4 AS TIMESTAMP)         AS invoice_date,\n",
    "    try_cast(_c5 AS DECIMAL(10,2))     AS unit_price,\n",
    "    CAST(_c6 AS STRING)                AS customer_id,\n",
    "    TRIM(_c7)                          AS country,\n",
    "    ingest_ts,                         -- lineage: ingestion timestamp\n",
    "    source_system                      -- lineage: data origin ('Contoso')\n",
    "FROM contoso.bronze.retail_contoso"
   ]
  },
  {
   "cell_type": "code",
   "execution_count": 0,
   "metadata": {
    "application/vnd.databricks.v1+cell": {
     "cellMetadata": {
      "byteLimit": 2048000,
      "implicitDf": true,
      "rowLimit": 10000
     },
     "inputWidgets": {},
     "nuid": "65545a90-8824-4f4b-9bd2-e2836c8d16c5",
     "showTitle": false,
     "tableResultSettingsMap": {},
     "title": ""
    }
   },
   "outputs": [],
   "source": [
    "%sql\n",
    "SELECT * FROM contoso.bronze.v_sales_contoso"
   ]
  },
  {
   "cell_type": "markdown",
   "metadata": {
    "application/vnd.databricks.v1+cell": {
     "cellMetadata": {},
     "inputWidgets": {},
     "nuid": "ff2b41ea-c03a-49ca-ae4b-829811002663",
     "showTitle": false,
     "tableResultSettingsMap": {},
     "title": ""
    }
   },
   "source": [
    "### 5. 🟥 Register tables/views in the metastore (Unity Catalog or workspace) and add table comments.\n",
    "[DBX-DE-Assoc][UC-Permissions]"
   ]
  },
  {
   "cell_type": "code",
   "execution_count": 0,
   "metadata": {
    "application/vnd.databricks.v1+cell": {
     "cellMetadata": {
      "byteLimit": 2048000,
      "implicitDf": true,
      "rowLimit": 10000
     },
     "inputWidgets": {},
     "nuid": "a45ab5b1-7f44-456d-ac80-a295c0a41ac2",
     "showTitle": false,
     "tableResultSettingsMap": {},
     "title": ""
    }
   },
   "outputs": [],
   "source": [
    "%sql\n",
    "-- Register the EuroStyle Bronze sales table in Unity Catalog\n",
    "ALTER TABLE eurostyle.bronze.sales_EuroStyle\n",
    "SET TBLPROPERTIES ('comment' = 'EuroStyle sales data with lineage columns (ingest_ts, source_system) for Bronze layer ingestion.');\n",
    "\n",
    "-- Register the Contoso Bronze retail table in Unity Catalog\n",
    "ALTER TABLE contoso.bronze.retail_contoso\n",
    "SET TBLPROPERTIES ('comment' = 'Contoso online retail data with lineage columns (ingest_ts, source_system) for Bronze layer ingestion.');\n",
    "\n",
    "-- Register the BI-friendly Contoso view\n",
    "COMMENT ON VIEW contoso.bronze.v_sales_contoso\n",
    "IS 'BI-friendly Contoso sales view: trimmed and typed columns, ready for Power BI DirectQuery. Includes lineage columns.';\n"
   ]
  },
  {
   "cell_type": "markdown",
   "metadata": {
    "application/vnd.databricks.v1+cell": {
     "cellMetadata": {},
     "inputWidgets": {},
     "nuid": "9a4012b3-9801-45ce-8cb9-3181ace43043",
     "showTitle": false,
     "tableResultSettingsMap": {},
     "title": ""
    }
   },
   "source": [
    "### 6. 🟥 Validate Contoso types (dates/numerics), address corrupt records if any, and record issues.\n",
    "[DBX-DE-Assoc][Delta-Basics]"
   ]
  },
  {
   "cell_type": "code",
   "execution_count": 0,
   "metadata": {
    "application/vnd.databricks.v1+cell": {
     "cellMetadata": {
      "byteLimit": 2048000,
      "implicitDf": true,
      "rowLimit": 10000
     },
     "inputWidgets": {},
     "nuid": "7fa5fa8d-7853-4a24-960b-ba61fdb8488c",
     "showTitle": false,
     "tableResultSettingsMap": {
      "0": {
       "dataGridStateBlob": "{\"version\":1,\"tableState\":{\"columnPinning\":{\"left\":[\"#row_number#\"],\"right\":[]},\"columnSizing\":{},\"columnVisibility\":{}},\"settings\":{\"columns\":{}},\"syncTimestamp\":1757788753386}",
       "filterBlob": null,
       "queryPlanFiltersBlob": null,
       "tableResultIndex": 0
      }
     },
     "title": ""
    }
   },
   "outputs": [],
   "source": [
    "%sql\n",
    "-- 1. Check schema types in the BI-friendly view\n",
    "DESCRIBE contoso.bronze.v_sales_contoso;\n"
   ]
  },
  {
   "cell_type": "code",
   "execution_count": 0,
   "metadata": {
    "application/vnd.databricks.v1+cell": {
     "cellMetadata": {
      "byteLimit": 2048000,
      "implicitDf": true,
      "rowLimit": 10000
     },
     "inputWidgets": {},
     "nuid": "9ba4c996-959f-4ff5-bda3-2fc9203e8ec4",
     "showTitle": false,
     "tableResultSettingsMap": {},
     "title": ""
    }
   },
   "outputs": [],
   "source": [
    "%sql\n",
    "-- 2. Validate Quantity (should be positive integers)\n",
    "SELECT COUNT(*) AS invalid_quantity_rows\n",
    "FROM contoso.bronze.v_sales_contoso\n",
    "WHERE quantity IS NULL OR quantity < 0;"
   ]
  },
  {
   "cell_type": "code",
   "execution_count": 0,
   "metadata": {
    "application/vnd.databricks.v1+cell": {
     "cellMetadata": {
      "byteLimit": 2048000,
      "implicitDf": true,
      "rowLimit": 10000
     },
     "inputWidgets": {},
     "nuid": "5d66ed28-ba46-4e2d-a42a-e196d85f5d98",
     "showTitle": false,
     "tableResultSettingsMap": {},
     "title": ""
    }
   },
   "outputs": [],
   "source": [
    "%sql\n",
    "-- 3. Validate Unit Price (should be positive decimal)\n",
    "SELECT COUNT(*) AS invalid_price_rows\n",
    "FROM contoso.bronze.v_sales_contoso\n",
    "WHERE unit_price IS NULL OR unit_price <= 0;"
   ]
  },
  {
   "cell_type": "code",
   "execution_count": 0,
   "metadata": {
    "application/vnd.databricks.v1+cell": {
     "cellMetadata": {
      "byteLimit": 2048000,
      "implicitDf": true,
      "rowLimit": 10000
     },
     "inputWidgets": {},
     "nuid": "f0a45b54-d2b7-4be8-950f-514eaccc844d",
     "showTitle": false,
     "tableResultSettingsMap": {},
     "title": ""
    }
   },
   "outputs": [],
   "source": [
    "%sql\n",
    "-- 4. Validate Invoice Date (check for NULL or unrealistic values)\n",
    "SELECT COUNT(*) AS invalid_date_rows\n",
    "FROM contoso.bronze.v_sales_contoso\n",
    "WHERE invoice_date IS NULL \n",
    "   OR invoice_date < '2000-01-01' \n",
    "   OR invoice_date > current_date();"
   ]
  },
  {
   "cell_type": "code",
   "execution_count": 0,
   "metadata": {
    "application/vnd.databricks.v1+cell": {
     "cellMetadata": {
      "byteLimit": 2048000,
      "implicitDf": true,
      "rowLimit": 10000
     },
     "inputWidgets": {},
     "nuid": "18de64f2-b63a-4bb0-80d0-d85c26188293",
     "showTitle": false,
     "tableResultSettingsMap": {},
     "title": ""
    }
   },
   "outputs": [],
   "source": [
    "%sql\n",
    "-- 5. Inspect a few corrupt rows if they exist\n",
    "SELECT *\n",
    "FROM contoso.bronze.v_sales_contoso\n",
    "WHERE quantity IS NULL OR unit_price IS NULL OR invoice_date IS NULL\n",
    "LIMIT 50;\n"
   ]
  },
  {
   "cell_type": "code",
   "execution_count": 0,
   "metadata": {
    "application/vnd.databricks.v1+cell": {
     "cellMetadata": {
      "byteLimit": 2048000,
      "implicitDf": true,
      "rowLimit": 10000
     },
     "inputWidgets": {},
     "nuid": "890649e5-ac9a-40cf-9a3b-ad8ac8b3c155",
     "showTitle": false,
     "tableResultSettingsMap": {},
     "title": ""
    }
   },
   "outputs": [],
   "source": [
    "%sql\n",
    "SHOW VIEWS IN contoso.bronze;"
   ]
  },
  {
   "cell_type": "code",
   "execution_count": 0,
   "metadata": {
    "application/vnd.databricks.v1+cell": {
     "cellMetadata": {
      "byteLimit": 2048000,
      "implicitDf": true,
      "rowLimit": 10000
     },
     "inputWidgets": {},
     "nuid": "dd4a07b4-bd20-44e6-8748-fd85914106c3",
     "showTitle": false,
     "tableResultSettingsMap": {},
     "title": ""
    }
   },
   "outputs": [],
   "source": [
    "%sql\n",
    "-- Record issue counts → store them in a log table\n",
    "CREATE OR REPLACE TABLE contoso.bronze.data_quality_log AS\n",
    "SELECT\n",
    "  current_timestamp()        AS validation_ts,\n",
    "  'retail_contoso'           AS table_name,\n",
    "  (SELECT COUNT(*) FROM contoso.bronze.v_sales_contoso WHERE quantity IS NULL OR quantity < 0) AS invalid_quantity,\n",
    "  (SELECT COUNT(*) FROM contoso.bronze.v_sales_contoso WHERE unit_price IS NULL OR unit_price <= 0) AS invalid_price,\n",
    "  (SELECT COUNT(*) FROM contoso.bronze.v_sales_contoso WHERE invoice_date IS NULL \n",
    "                                                         OR invoice_date < '2000-01-01' \n",
    "                                                         OR invoice_date > current_date()) AS invalid_date;\n"
   ]
  },
  {
   "cell_type": "code",
   "execution_count": 0,
   "metadata": {
    "application/vnd.databricks.v1+cell": {
     "cellMetadata": {
      "byteLimit": 2048000,
      "implicitDf": true,
      "rowLimit": 10000
     },
     "inputWidgets": {},
     "nuid": "d44ffdf4-aa12-403c-a7bf-fe79c6ac2a38",
     "showTitle": false,
     "tableResultSettingsMap": {},
     "title": ""
    }
   },
   "outputs": [],
   "source": [
    "%sql\n",
    "SELECT * FROM contoso.bronze.data_quality_log"
   ]
  },
  {
   "cell_type": "code",
   "execution_count": 0,
   "metadata": {
    "application/vnd.databricks.v1+cell": {
     "cellMetadata": {
      "byteLimit": 2048000,
      "implicitDf": true,
      "rowLimit": 10000
     },
     "inputWidgets": {},
     "nuid": "fa46e8f2-4c9a-4e34-bf1c-fc67390ddef4",
     "showTitle": false,
     "tableResultSettingsMap": {},
     "title": ""
    }
   },
   "outputs": [],
   "source": [
    "%sql\n",
    "-- Create the Silver table for Contoso sales\n",
    "-- Cleans Bronze data by removing invalid/null values\n",
    "\n",
    "CREATE OR REPLACE TABLE contoso.silver.sales_contoso\n",
    "USING DELTA\n",
    "AS\n",
    "SELECT\n",
    "    invoice_no,\n",
    "    stock_code,\n",
    "    description,\n",
    "    quantity,\n",
    "    invoice_date,\n",
    "    unit_price,\n",
    "    customer_id,\n",
    "    country,\n",
    "    ingest_ts,       -- keep lineage\n",
    "    source_system    -- keep lineage\n",
    "FROM contoso.bronze.v_sales_contoso\n",
    "WHERE quantity IS NOT NULL AND quantity > 0          -- filter invalid quantities\n",
    "  AND unit_price IS NOT NULL AND unit_price > 0      -- filter invalid prices\n",
    "  AND invoice_date IS NOT NULL \n",
    "  AND invoice_date >= '2000-01-01'                   -- filter unrealistic dates\n",
    "  AND invoice_date <= current_date();                -- avoid future-dated rows"
   ]
  },
  {
   "cell_type": "code",
   "execution_count": 0,
   "metadata": {
    "application/vnd.databricks.v1+cell": {
     "cellMetadata": {
      "byteLimit": 2048000,
      "implicitDf": true,
      "rowLimit": 10000
     },
     "inputWidgets": {},
     "nuid": "fa437758-ddfc-4b27-bd57-c30b9cfe187a",
     "showTitle": false,
     "tableResultSettingsMap": {},
     "title": ""
    }
   },
   "outputs": [],
   "source": [
    "%sql\n",
    "SELECT COUNT(*) FROM contoso.silver.sales_contoso;"
   ]
  },
  {
   "cell_type": "code",
   "execution_count": 0,
   "metadata": {
    "application/vnd.databricks.v1+cell": {
     "cellMetadata": {
      "byteLimit": 2048000,
      "implicitDf": true,
      "rowLimit": 10000
     },
     "inputWidgets": {},
     "nuid": "a7d474b3-b443-4b82-827a-0f612868aed9",
     "showTitle": false,
     "tableResultSettingsMap": {},
     "title": ""
    }
   },
   "outputs": [],
   "source": [
    "%sql\n",
    "SELECT *\n",
    "FROM contoso.silver.sales_contoso\n",
    "LIMIT 20;"
   ]
  },
  {
   "cell_type": "markdown",
   "metadata": {
    "application/vnd.databricks.v1+cell": {
     "cellMetadata": {},
     "inputWidgets": {},
     "nuid": "f5b1e249-2cd7-4b94-9265-4548ce2fdfb5",
     "showTitle": false,
     "tableResultSettingsMap": {},
     "title": ""
    }
   },
   "source": [
    "### 7. 🟨 Perform a Power BI DirectQuery smoke test to bronze.v_sales_contoso; capture steps/screenshot in the README.\n",
    "[DBX-DA-Assoc][Dashboards][MS-PL300][Visualize]"
   ]
  },
  {
   "cell_type": "markdown",
   "metadata": {
    "application/vnd.databricks.v1+cell": {
     "cellMetadata": {},
     "inputWidgets": {},
     "nuid": "4df79198-eb27-4bba-912d-086d8687a2c7",
     "showTitle": false,
     "tableResultSettingsMap": {},
     "title": ""
    }
   },
   "source": [
    "1. Get the connection details from Databricks\n",
    "- In your Databricks workspace, go to SQL Warehouses.\n",
    "- Start (or create) a small warehouse (e.g., Serverless Starter or Small).\n",
    "- Copy the Connection details (Server Hostname + HTTP Path).\n",
    "\n",
    "2. Connect Power BI Desktop to Databricks\n",
    "- Open Power BI Desktop.\n",
    "- Go to Get Data → Azure → Azure Databricks.\n",
    "- Paste the Server Hostname and HTTP Path.\n",
    "- Select DirectQuery as the connection method.\n",
    "- Authenticate using Azure Active Directory (SSO) with your Databricks account"
   ]
  },
  {
   "cell_type": "code",
   "execution_count": 0,
   "metadata": {
    "application/vnd.databricks.v1+cell": {
     "cellMetadata": {
      "byteLimit": 2048000,
      "implicitDf": true,
      "rowLimit": 10000
     },
     "inputWidgets": {},
     "nuid": "bd2cbc0a-a590-4f5f-bb34-8a8b94189aa1",
     "showTitle": false,
     "tableResultSettingsMap": {},
     "title": ""
    }
   },
   "outputs": [],
   "source": [
    "%sql\n"
   ]
  },
  {
   "cell_type": "markdown",
   "metadata": {
    "application/vnd.databricks.v1+cell": {
     "cellMetadata": {},
     "inputWidgets": {},
     "nuid": "2d41efc2-b7fa-4eb5-96f5-44c911518da7",
     "showTitle": false,
     "tableResultSettingsMap": {},
     "title": ""
    }
   },
   "source": [
    "### 8) 🟥 Upload EuroStyle CSVs to the raw path and capture source metadata (provenance, obtained date). \n",
    "[DBX-DE-Assoc][Medallion]  "
   ]
  },
  {
   "cell_type": "code",
   "execution_count": 0,
   "metadata": {
    "application/vnd.databricks.v1+cell": {
     "cellMetadata": {
      "byteLimit": 2048000,
      "rowLimit": 10000
     },
     "inputWidgets": {},
     "nuid": "4667efb4-afd3-438b-9202-a53c2c03d27b",
     "showTitle": false,
     "tableResultSettingsMap": {},
     "title": ""
    }
   },
   "outputs": [],
   "source": [
    "# Inspect file details\n",
    "%fs ls abfss://raw@stescontosoma108.dfs.core.windows.net/eurostyle/"
   ]
  },
  {
   "cell_type": "code",
   "execution_count": 0,
   "metadata": {
    "application/vnd.databricks.v1+cell": {
     "cellMetadata": {
      "byteLimit": 2048000,
      "implicitDf": true,
      "rowLimit": 10000
     },
     "inputWidgets": {},
     "nuid": "9b7494bb-94f2-4c75-8f43-3470850bae2c",
     "showTitle": false,
     "tableResultSettingsMap": {},
     "title": ""
    }
   },
   "outputs": [],
   "source": [
    "%sql\n",
    "-- Create a table for raw file metadata\n",
    "CREATE OR REPLACE TABLE eurostyle.raw.metadata_files\n",
    "(\n",
    "    file_name      STRING COMMENT 'Original CSV file name',\n",
    "    file_size      BIGINT COMMENT 'File size in bytes',\n",
    "    obtained_date  TIMESTAMP COMMENT 'Date when file was obtained',\n",
    "    provenance     STRING COMMENT 'Source system / provider'\n",
    ")\n",
    "COMMENT 'Metadata lineage for EuroStyle raw CSV ingestion';"
   ]
  },
  {
   "cell_type": "code",
   "execution_count": 0,
   "metadata": {
    "application/vnd.databricks.v1+cell": {
     "cellMetadata": {
      "byteLimit": 2048000,
      "implicitDf": true,
      "rowLimit": 10000
     },
     "inputWidgets": {},
     "nuid": "d5facb11-10c9-47c2-9c60-c3c01863f761",
     "showTitle": false,
     "tableResultSettingsMap": {},
     "title": ""
    }
   },
   "outputs": [],
   "source": [
    "from pyspark.sql import Row\n",
    "from datetime import datetime\n",
    "\n",
    "# Path of the EuroStyle raw file\n",
    "file_path = \"abfss://raw@stescontosoma108.dfs.core.windows.net/eurostyle/dataset_fashion_store_sales.csv\"\n",
    "\n",
    "# List file metadata\n",
    "file_info = dbutils.fs.ls(file_path)[0]\n",
    "\n",
    "# Build a single-row DataFrame with metadata\n",
    "metadata_df = spark.createDataFrame([\n",
    "    Row(\n",
    "        file_name=file_info.name,                        # actual file name\n",
    "        file_size=file_info.size,                        # file size in bytes\n",
    "        obtained_date=datetime.now(),                    # ingestion timestamp\n",
    "        provenance=\"EuroStyle Fashion Store (synthetic dataset)\"  # provenance info\n",
    "    )\n",
    "])\n",
    "\n",
    "# Append the record into the metadata table\n",
    "metadata_df.write.mode(\"append\").insertInto(\"eurostyle.raw.metadata_files\")\n",
    "\n"
   ]
  },
  {
   "cell_type": "code",
   "execution_count": 0,
   "metadata": {
    "application/vnd.databricks.v1+cell": {
     "cellMetadata": {
      "byteLimit": 2048000,
      "implicitDf": true,
      "rowLimit": 10000
     },
     "inputWidgets": {},
     "nuid": "f6124d23-688f-45ac-8bc7-ce2afaedcd8d",
     "showTitle": false,
     "tableResultSettingsMap": {},
     "title": ""
    }
   },
   "outputs": [],
   "source": [
    "%sql\n",
    "-- Check stored metadata records\n",
    "SELECT * FROM eurostyle.raw.metadata_files;"
   ]
  },
  {
   "cell_type": "markdown",
   "metadata": {
    "application/vnd.databricks.v1+cell": {
     "cellMetadata": {},
     "inputWidgets": {},
     "nuid": "e5d4a1ec-4b5f-4837-b5c2-c557787afea3",
     "showTitle": false,
     "tableResultSettingsMap": {},
     "title": ""
    }
   },
   "source": [
    "### 9) 🟥 Ingest EuroStyle to Delta Bronze with lineage columns (`ingest_ts`, `source_system='EUROSTYLE'`) as `bronze.sales_eurostyle`.  \n",
    "[DBX-DE-Assoc][Delta-Basics][Autoloader][CopyInto][Medallion] "
   ]
  },
  {
   "cell_type": "code",
   "execution_count": 0,
   "metadata": {
    "application/vnd.databricks.v1+cell": {
     "cellMetadata": {
      "byteLimit": 2048000,
      "implicitDf": true,
      "rowLimit": 10000
     },
     "inputWidgets": {},
     "nuid": "49425226-1e93-4533-aab8-c4a14ea66967",
     "showTitle": false,
     "tableResultSettingsMap": {},
     "title": ""
    }
   },
   "outputs": [],
   "source": [
    "%sql\n",
    "-- Step 9: Ingest EuroStyle raw sales data into Bronze Delta table\n",
    "-- Adds lineage columns: ingest_ts (timestamp) and source_system ('EUROSTYLE')\n",
    "CREATE TABLE eurostyle.bronze.tmp_sales\n",
    "USING CSV\n",
    "OPTIONS (header \"true\", inferSchema \"true\")\n",
    "LOCATION 'abfss://raw@stescontosoma108.dfs.core.windows.net/eurostyle/dataset_fashion_store_sales.csv';\n"
   ]
  },
  {
   "cell_type": "code",
   "execution_count": 0,
   "metadata": {
    "application/vnd.databricks.v1+cell": {
     "cellMetadata": {
      "byteLimit": 2048000,
      "implicitDf": true,
      "rowLimit": 10000
     },
     "inputWidgets": {},
     "nuid": "3da568c7-c56a-4abb-b458-6c7d0eb2b89e",
     "showTitle": false,
     "tableResultSettingsMap": {},
     "title": ""
    }
   },
   "outputs": [],
   "source": [
    "%sql\n",
    "-- Step 9: Ingest EuroStyle raw sales data into Bronze Delta table\n",
    "-- Adds lineage columns: ingest_ts (timestamp) and source_system ('EUROSTYLE')\n",
    "\n",
    "CREATE OR REPLACE TABLE eurostyle.bronze.sales_eurostyle\n",
    "USING DELTA\n",
    "AS\n",
    "SELECT *, \n",
    "       current_timestamp() AS ingest_ts,    -- lineage: ingestion timestamp\n",
    "       'EUROSTYLE'         AS source_system -- lineage: fixed source system tag\n",
    "FROM eurostyle.bronze.tmp_sales;\n",
    "\n"
   ]
  },
  {
   "cell_type": "markdown",
   "metadata": {
    "application/vnd.databricks.v1+cell": {
     "cellMetadata": {},
     "inputWidgets": {},
     "nuid": "ac44d162-6f42-4508-b057-45e2f4dae7b2",
     "showTitle": false,
     "tableResultSettingsMap": {},
     "title": ""
    }
   },
   "source": [
    "Explanation\n",
    "- sale_date is the actual column name from your dataset (you can see it in your preview earlier).\n",
    "- invoice_date was the column name used for Contoso, but EuroStyle has a different schema.\n",
    "- Always align queries with the source schema (EuroStyle vs Contoso).\n",
    "This will give the row count and the min/max sales date in the Bronze table."
   ]
  },
  {
   "cell_type": "code",
   "execution_count": 0,
   "metadata": {
    "application/vnd.databricks.v1+cell": {
     "cellMetadata": {
      "byteLimit": 2048000,
      "implicitDf": true,
      "rowLimit": 10000
     },
     "inputWidgets": {},
     "nuid": "3600555d-9e43-492d-92b2-d15bc2eeb8de",
     "showTitle": false,
     "tableResultSettingsMap": {},
     "title": ""
    }
   },
   "outputs": [],
   "source": [
    "%sql\n",
    "SELECT \n",
    "    COUNT(*)                             AS row_count,\n",
    "    MIN(sale_date)                       AS min_sale_date,\n",
    "    MAX(sale_date)                       AS max_sale_date\n",
    "FROM eurostyle.bronze.sales_eurostyle;"
   ]
  },
  {
   "cell_type": "markdown",
   "metadata": {
    "application/vnd.databricks.v1+cell": {
     "cellMetadata": {},
     "inputWidgets": {},
     "nuid": "a7a8a0c5-f6a6-4d02-a77b-c81494dedc49",
     "showTitle": false,
     "tableResultSettingsMap": {},
     "title": ""
    }
   },
   "source": [
    "### 10) 🟥 Create and check in `docs/column_mapping.csv` with `source_name, unified_name, target_type`.  \n",
    "[DBX-DE-Prof][Modeling]"
   ]
  },
  {
   "cell_type": "markdown",
   "metadata": {
    "application/vnd.databricks.v1+cell": {
     "cellMetadata": {},
     "inputWidgets": {},
     "nuid": "3497d1c4-7618-4edf-879a-3b2cd4d29bb5",
     "showTitle": false,
     "tableResultSettingsMap": {},
     "title": ""
    }
   },
   "source": [
    "Create and upload the 'column-mapping.csv' file in raw with next content: \n",
    "source_name,unified_name,target_type\n",
    "Invoice,invoice_no,STRING\n",
    "StockCode,stock_code,STRING\n",
    "Description,description,STRING\n",
    "Quantity,quantity,INT\n",
    "InvoiceDate,invoice_date,TIMESTAMP\n",
    "Price,unit_price,DECIMAL(10,2)\n",
    "Customer ID,customer_id,STRING\n",
    "Country,country,STRING\n",
    "sale_id,invoice_no,STRING\n",
    "channel,sales_channel,STRING"
   ]
  },
  {
   "cell_type": "code",
   "execution_count": 0,
   "metadata": {
    "application/vnd.databricks.v1+cell": {
     "cellMetadata": {
      "byteLimit": 2048000,
      "implicitDf": true,
      "rowLimit": 10000
     },
     "inputWidgets": {},
     "nuid": "7917e4f1-6821-4164-925f-0f8615c58aa3",
     "showTitle": false,
     "tableResultSettingsMap": {},
     "title": ""
    }
   },
   "outputs": [],
   "source": [
    "%sql\n",
    "-- Create the combined catalog for EuroStyle + Contoso\n",
    "CREATE CATALOG IF NOT EXISTS es_contoso\n",
    "COMMENT 'Unified catalog for EuroStyle + Contoso data and documentation';\n"
   ]
  },
  {
   "cell_type": "code",
   "execution_count": 0,
   "metadata": {
    "application/vnd.databricks.v1+cell": {
     "cellMetadata": {
      "byteLimit": 2048000,
      "implicitDf": true,
      "rowLimit": 10000
     },
     "inputWidgets": {},
     "nuid": "30bbb26f-51e3-47ce-95be-eebbb3a5a9d6",
     "showTitle": false,
     "tableResultSettingsMap": {},
     "title": ""
    }
   },
   "outputs": [],
   "source": [
    "%sql\n",
    "-- Step 1: (already done) Create a storage credential once (linked to your Access Connector)\n",
    "-- Example:\n",
    "-- CREATE STORAGE CREDENTIAL cred_stescontosoma\n",
    "-- WITH AZURE_MANAGED_IDENTITY\n",
    "-- COMMENT 'Managed identity credential for stescontosoma108';\n",
    "\n",
    "-- Step 2: Create the external location for the docs folder\n",
    "CREATE EXTERNAL LOCATION IF NOT EXISTS loc_raw_docs\n",
    "URL 'abfss://raw@stescontosoma108.dfs.core.windows.net/docs/'\n",
    "WITH (STORAGE CREDENTIAL cred_stescontosoma)\n",
    "COMMENT 'Docs folder (column mappings, metadata) for EuroStyle/Contoso';\n",
    "\n",
    "-- Step 3: Create the schema in es_contoso if not yet created\n",
    "CREATE SCHEMA IF NOT EXISTS es_contoso.docs;\n",
    "\n",
    "-- Step 4: Register the CSV as an external table under es_contoso.docs\n",
    "CREATE TABLE IF NOT EXISTS es_contoso.docs.column_mapping\n",
    "USING CSV\n",
    "OPTIONS (\n",
    "  path \"abfss://raw@stescontosoma108.dfs.core.windows.net/docs/column-mapping.csv\",\n",
    "  header \"true\",\n",
    "  inferSchema \"true\"\n",
    ");\n",
    "\n"
   ]
  },
  {
   "cell_type": "code",
   "execution_count": 0,
   "metadata": {
    "application/vnd.databricks.v1+cell": {
     "cellMetadata": {
      "byteLimit": 2048000,
      "implicitDf": true,
      "rowLimit": 10000
     },
     "inputWidgets": {},
     "nuid": "3b72815f-9484-4952-b270-a03089f42c03",
     "showTitle": false,
     "tableResultSettingsMap": {},
     "title": ""
    }
   },
   "outputs": [],
   "source": [
    "%sql\n",
    "SELECT * \n",
    "FROM es_contoso.docs.column_mapping\n",
    "LIMIT 10;"
   ]
  },
  {
   "cell_type": "markdown",
   "metadata": {
    "application/vnd.databricks.v1+cell": {
     "cellMetadata": {},
     "inputWidgets": {},
     "nuid": "65321c81-49b1-4b1b-a1bd-89311860f64d",
     "showTitle": false,
     "tableResultSettingsMap": {},
     "title": ""
    }
   },
   "source": [
    "\n",
    "### 11) 🟥 Apply initial schema alignment across brands using the mapping and naming conventions (snake_case, consistent date/decimal types); update the runbook.  \n",
    "[DBX-DE-Prof][Modeling]  \n",
    "\n",
    "Task:\n",
    "- Take raw/Bronze data from EuroStyle and Contoso.\n",
    "- Apply the rules in es_contoso.docs.column_mapping.\n",
    "- Enforce consistent naming convention (snake_case) and types (TIMESTAMP, DECIMAL, etc.).\n",
    "- Register the aligned outputs as Silver tables.\n",
    "- Document in the runbook what’s been standardized.\n"
   ]
  },
  {
   "cell_type": "code",
   "execution_count": 0,
   "metadata": {
    "application/vnd.databricks.v1+cell": {
     "cellMetadata": {},
     "inputWidgets": {},
     "nuid": "7d95e89f-faa7-4ea6-9e3f-421df0438dae",
     "showTitle": false,
     "tableResultSettingsMap": {},
     "title": ""
    }
   },
   "outputs": [],
   "source": [
    "%sql\n",
    "-- 1. Load the mapping\n",
    "-- The table is already registered as es_contoso.docs.column_mapping.\n",
    "SELECT * FROM es_contoso.docs.column_mapping;\n",
    "\n",
    "-- This gives you the dictionary:\n",
    "-- source_name → unified_name, target_type."
   ]
  },
  {
   "cell_type": "code",
   "execution_count": 0,
   "metadata": {
    "application/vnd.databricks.v1+cell": {
     "cellMetadata": {
      "byteLimit": 2048000,
      "implicitDf": true,
      "rowLimit": 10000
     },
     "inputWidgets": {},
     "nuid": "33dac808-807d-4e1e-b4b7-e47987f06f5b",
     "showTitle": false,
     "tableResultSettingsMap": {},
     "title": ""
    }
   },
   "outputs": [],
   "source": [
    "%sql\n",
    "-- 2. Transform Contoso sales (Bronze → Silver)\n",
    "\n",
    "-- Drop Silver table if re-running\n",
    "DROP TABLE IF EXISTS contoso.silver.sales_contoso_aligned;\n",
    "\n",
    "-- Create aligned Silver table\n",
    "CREATE TABLE contoso.silver.sales_contoso_aligned\n",
    "USING DELTA\n",
    "AS\n",
    "SELECT\n",
    "    TRIM(_c0)                           AS invoice_no,\n",
    "    TRIM(_c1)                           AS stock_code,\n",
    "    TRIM(_c2)                           AS description,\n",
    "    TRY_CAST(_c3 AS INT)                AS quantity,\n",
    "    TRY_CAST(_c4 AS TIMESTAMP)          AS invoice_date,\n",
    "    TRY_CAST(_c5 AS DECIMAL(10,2))      AS unit_price,\n",
    "    TRIM(_c6)                           AS customer_id,\n",
    "    TRIM(_c7)                           AS country,\n",
    "    current_timestamp()                 AS ingest_ts,\n",
    "    'Contoso'                           AS source_system\n",
    "FROM contoso.bronze.retail_contoso\n",
    "WHERE _c0 != 'Invoice';  -- filter out header row if it slipped into the data\n",
    "\n"
   ]
  },
  {
   "cell_type": "code",
   "execution_count": 0,
   "metadata": {
    "application/vnd.databricks.v1+cell": {
     "cellMetadata": {
      "byteLimit": 2048000,
      "implicitDf": true,
      "rowLimit": 10000
     },
     "inputWidgets": {},
     "nuid": "75779f71-e7c6-4172-a3af-a399f51ac6cb",
     "showTitle": false,
     "tableResultSettingsMap": {},
     "title": ""
    }
   },
   "outputs": [],
   "source": [
    "%sql\n",
    "-- 3. Transform EuroStyle sales (Bronze → Silver)\n",
    "\n",
    "DROP TABLE IF EXISTS eurostyle.silver.sales_eurostyle_aligned;\n",
    "\n",
    "CREATE TABLE eurostyle.silver.sales_eurostyle_aligned\n",
    "USING DELTA\n",
    "AS\n",
    "SELECT\n",
    "    CAST(sale_id AS STRING)            AS invoice_no,\n",
    "    CAST(channel AS STRING)            AS sales_channel,\n",
    "    CAST(discounted AS BOOLEAN)        AS is_discounted,\n",
    "    CAST(total_amount AS DECIMAL(10,2)) AS total_amount,\n",
    "    CAST(sale_date AS TIMESTAMP)       AS invoice_date,\n",
    "    CAST(customer_id AS STRING)        AS customer_id,\n",
    "    ingest_ts,\n",
    "    source_system\n",
    "FROM eurostyle.bronze.sales_eurostyle;\n",
    "\n"
   ]
  },
  {
   "cell_type": "code",
   "execution_count": 0,
   "metadata": {
    "application/vnd.databricks.v1+cell": {
     "cellMetadata": {
      "byteLimit": 2048000,
      "implicitDf": true,
      "rowLimit": 10000
     },
     "inputWidgets": {},
     "nuid": "3206c188-54f9-40bc-8c7f-593455e620df",
     "showTitle": false,
     "tableResultSettingsMap": {},
     "title": ""
    }
   },
   "outputs": [],
   "source": [
    "%sql\n",
    "-- 4. Validation Queries\n",
    "DESCRIBE TABLE contoso.silver.sales_contoso_aligned;\n"
   ]
  },
  {
   "cell_type": "code",
   "execution_count": 0,
   "metadata": {
    "application/vnd.databricks.v1+cell": {
     "cellMetadata": {
      "byteLimit": 2048000,
      "implicitDf": true,
      "rowLimit": 10000
     },
     "inputWidgets": {},
     "nuid": "bee40218-4665-4e6e-a7a2-5bf8b3046b54",
     "showTitle": false,
     "tableResultSettingsMap": {},
     "title": ""
    }
   },
   "outputs": [],
   "source": [
    "%sql\n",
    "DESCRIBE TABLE eurostyle.silver.sales_eurostyle_aligned;"
   ]
  },
  {
   "cell_type": "markdown",
   "metadata": {
    "application/vnd.databricks.v1+cell": {
     "cellMetadata": {},
     "inputWidgets": {},
     "nuid": "b5436893-6016-406d-af6f-09eeacc9ade3",
     "showTitle": false,
     "tableResultSettingsMap": {},
     "title": ""
    }
   },
   "source": [
    "5. Runbook update (document)\n",
    "- In your runbook (Markdown or project doc), add:\n",
    "- Naming convention: snake_case enforced (e.g., invoice_no, invoice_date).\n",
    "- Type alignment:\n",
    "- Dates → TIMESTAMP\n",
    "- Prices/amounts → DECIMAL(10,2)\n",
    "- Booleans → BOOLEAN\n",
    "- Lineage columns: ingest_ts, source_system.\n",
    "- Brand-specific fields harmonized:\n",
    "- Contoso: Invoice → invoice_no\n",
    "- EuroStyle: sale_id → invoice_no"
   ]
  },
  {
   "cell_type": "markdown",
   "metadata": {
    "application/vnd.databricks.v1+cell": {
     "cellMetadata": {},
     "inputWidgets": {},
     "nuid": "b2cd1f52-920a-4eac-a78d-d156a96c482d",
     "showTitle": false,
     "tableResultSettingsMap": {},
     "title": ""
    }
   },
   "source": [
    "### 12) 🟥 Reconcile raw→Bronze row counts per brand (±1% tolerance or explained variance) and persist counts to `monitor.dq_bronze_daily`.  \n",
    "[DBX-DE-Prof][Monitoring-Logs]  \n",
    "\n",
    "Goal:\n",
    "- Compare the row counts between the raw CSV files and their corresponding Bronze Delta tables (per brand).\n",
    "- Allow a ±1% tolerance (to account for header rows, corrupted lines, etc.).\n",
    "- Persist the results to a monitoring table: monitor.dq_bronze_daily.\n",
    "\n",
    "Optional : \n",
    "- Add a SQL alert query that automatically flags any brand where the variance > ±1% and integrate it with Databricks Jobs or email notifications\n",
    "- Add a PySpark validation cell you can drop into your ingestion notebook. This way the pipeline fails fast if the variance exceeds ±1%.\n",
    "- Reconcile row counts between raw CSVs and Bronze Delta tables for each brand (EuroStyle, Contoso).\n",
    "  - Allow ±1% tolerance.\n",
    "  - Persist results into es_contoso.monitor.dq_bronze_daily.\n",
    "  - Optional extension: flag pass/fail in the log, so monitoring is self-contained."
   ]
  },
  {
   "cell_type": "code",
   "execution_count": 0,
   "metadata": {
    "application/vnd.databricks.v1+cell": {
     "cellMetadata": {
      "byteLimit": 2048000,
      "implicitDf": true,
      "rowLimit": 10000
     },
     "inputWidgets": {},
     "nuid": "c9eb2352-192c-40ae-9e5a-88efcaaa787d",
     "showTitle": false,
     "tableResultSettingsMap": {},
     "title": ""
    }
   },
   "outputs": [],
   "source": [
    "%sql\n",
    "-- 1. Create the monitoring schema + table\n",
    "-- Create schema if not exists\n",
    "CREATE SCHEMA IF NOT EXISTS es_contoso.monitor;\n",
    "\n",
    "-- Create the monitoring table (append-only log)\n",
    "CREATE TABLE IF NOT EXISTS es_contoso.monitor.dq_bronze_daily (\n",
    "    brand STRING,\n",
    "    raw_count BIGINT,\n",
    "    bronze_count BIGINT,\n",
    "    variance DOUBLE,\n",
    "    check_date DATE\n",
    ") USING DELTA;\n",
    "\n"
   ]
  },
  {
   "cell_type": "code",
   "execution_count": 0,
   "metadata": {
    "application/vnd.databricks.v1+cell": {
     "cellMetadata": {
      "byteLimit": 2048000,
      "implicitDf": true,
      "rowLimit": 10000
     },
     "inputWidgets": {},
     "nuid": "5d5c7342-060f-4c94-86f3-c4061e3077a3",
     "showTitle": false,
     "tableResultSettingsMap": {},
     "title": ""
    }
   },
   "outputs": [],
   "source": [
    "%sql\n",
    "-- 2. Compute counts for Contoso\n",
    "-- Raw row count (CSV directly)\n",
    "SELECT COUNT(*) AS raw_count\n",
    "FROM csv.`abfss://raw@stescontosoma108.dfs.core.windows.net/contoso/online_retail_II.csv`;\n",
    "\n",
    "-- Bronze row count\n",
    "SELECT COUNT(*) AS bronze_count\n",
    "FROM contoso.bronze.retail_contoso;"
   ]
  },
  {
   "cell_type": "code",
   "execution_count": 0,
   "metadata": {
    "application/vnd.databricks.v1+cell": {
     "cellMetadata": {
      "byteLimit": 2048000,
      "implicitDf": true,
      "rowLimit": 10000
     },
     "inputWidgets": {},
     "nuid": "5d342028-58fc-43d6-a591-98e22394e14b",
     "showTitle": false,
     "tableResultSettingsMap": {},
     "title": ""
    }
   },
   "outputs": [],
   "source": [
    "%sql\n",
    "-- 3. Insert reconciliation result for Contoso\n",
    "INSERT INTO es_contoso.monitor.dq_bronze_daily\n",
    "SELECT\n",
    "    'Contoso' AS brand,\n",
    "    raw_count,\n",
    "    bronze_count,\n",
    "    (bronze_count - raw_count) * 1.0 / raw_count AS variance,\n",
    "    current_date() AS check_date\n",
    "FROM (\n",
    "    SELECT COUNT(*) AS raw_count\n",
    "    FROM csv.`abfss://raw@stescontosoma108.dfs.core.windows.net/contoso/online_retail_II.csv`\n",
    ") raw\n",
    "CROSS JOIN (\n",
    "    SELECT COUNT(*) AS bronze_count\n",
    "    FROM contoso.bronze.retail_contoso\n",
    ") bronze;"
   ]
  },
  {
   "cell_type": "code",
   "execution_count": 0,
   "metadata": {
    "application/vnd.databricks.v1+cell": {
     "cellMetadata": {
      "byteLimit": 2048000,
      "implicitDf": true,
      "rowLimit": 10000
     },
     "inputWidgets": {},
     "nuid": "81699070-a3d4-4cf3-a3bf-3ed846f09a63",
     "showTitle": false,
     "tableResultSettingsMap": {},
     "title": ""
    }
   },
   "outputs": [],
   "source": [
    "%sql\n",
    "-- 4. Do the same for EuroStyle\n",
    "INSERT INTO es_contoso.monitor.dq_bronze_daily\n",
    "SELECT\n",
    "    'EuroStyle' AS brand,\n",
    "    raw_count,\n",
    "    bronze_count,\n",
    "    (bronze_count - raw_count) * 1.0 / raw_count AS variance,\n",
    "    current_date() AS check_date\n",
    "FROM (\n",
    "    SELECT COUNT(*) AS raw_count\n",
    "    FROM csv.`abfss://raw@stescontosoma108.dfs.core.windows.net/eurostyle/dataset_fashion_store_sales.csv`\n",
    ") raw\n",
    "CROSS JOIN (\n",
    "    SELECT COUNT(*) AS bronze_count\n",
    "    FROM eurostyle.bronze.sales_eurostyle\n",
    ") bronze;"
   ]
  },
  {
   "cell_type": "code",
   "execution_count": 0,
   "metadata": {
    "application/vnd.databricks.v1+cell": {
     "cellMetadata": {
      "byteLimit": 2048000,
      "implicitDf": true,
      "rowLimit": 10000
     },
     "inputWidgets": {},
     "nuid": "2c6c1b11-df30-4ec6-8bfb-3aeabb868cf7",
     "showTitle": false,
     "tableResultSettingsMap": {},
     "title": ""
    }
   },
   "outputs": [],
   "source": [
    "%sql\n",
    "-- 5. Query results\n",
    "SELECT * \n",
    "FROM es_contoso.monitor.dq_bronze_daily\n",
    "ORDER BY check_date DESC;"
   ]
  },
  {
   "cell_type": "markdown",
   "metadata": {
    "application/vnd.databricks.v1+cell": {
     "cellMetadata": {},
     "inputWidgets": {},
     "nuid": "53b5c151-a6ba-4c44-b3fe-9c9bf06b087e",
     "showTitle": false,
     "tableResultSettingsMap": {},
     "title": ""
    }
   },
   "source": [
    "Runbook note\n",
    "- Tolerance rule: Variance must be between -1% and +1%.\n",
    "- If outside tolerance, investigate ingestion pipeline (e.g., missing header filter, corrupted rows).\n",
    "- Counts are logged daily into es_contoso.monitor.dq_bronze_daily."
   ]
  },
  {
   "cell_type": "code",
   "execution_count": 0,
   "metadata": {
    "application/vnd.databricks.v1+cell": {
     "cellMetadata": {
      "byteLimit": 2048000,
      "implicitDf": true,
      "rowLimit": 10000
     },
     "inputWidgets": {},
     "nuid": "e23fc13e-ea5d-4c6a-8d41-8e1ef1bb3ec5",
     "showTitle": false,
     "tableResultSettingsMap": {},
     "title": ""
    }
   },
   "outputs": [],
   "source": [
    "%sql\n",
    "-- Optional : Add a SQL alert query that automatically flags any brand where the variance > ±1% and integrate it with -- -- Databricks Jobs or email notifications\n",
    "\n",
    "-- Find any brand with variance outside ±1% tolerance\n",
    "SELECT\n",
    "    brand,\n",
    "    raw_count,\n",
    "    bronze_count,\n",
    "    variance,\n",
    "    check_date\n",
    "FROM es_contoso.monitor.dq_bronze_daily\n",
    "WHERE ABS(variance) > 0.01   -- tolerance = 1%\n",
    "ORDER BY check_date DESC;\n"
   ]
  },
  {
   "cell_type": "markdown",
   "metadata": {
    "application/vnd.databricks.v1+cell": {
     "cellMetadata": {},
     "inputWidgets": {},
     "nuid": "e68e39e9-b099-4175-bdd2-d0d4eefc934b",
     "showTitle": false,
     "tableResultSettingsMap": {},
     "title": ""
    }
   },
   "source": [
    "How to use it\n",
    "- Ad-hoc check: Run the SQL manually after ingestion.\n",
    "- Databricks Job alert:\n",
    "- Save this query as a Databricks SQL Query.\n",
    "- Create an Alert on it with condition if row count > 0.\n",
    "- Configure email / Slack / Teams notifications.\n",
    "- Integration with pipelines (optional):\n",
    "- Wrap it into a Delta Live Table expectation.\n",
    "- Or add it as a validation step in your ingestion notebook.\n",
    "\n",
    "Runbook update\n",
    "- Add the following rule:\n",
    "- DQ Rule #1: For each daily ingestion, reconcile raw vs bronze counts per brand. If ABS(variance) > 1%, trigger an alert and open an incident ticket."
   ]
  },
  {
   "cell_type": "markdown",
   "metadata": {
    "application/vnd.databricks.v1+cell": {
     "cellMetadata": {},
     "inputWidgets": {},
     "nuid": "3cdf2c26-801c-45e2-b1a2-7673a0ef558d",
     "showTitle": false,
     "tableResultSettingsMap": {},
     "title": ""
    }
   },
   "source": [
    "Optional:  add a PySpark validation cell you can drop into your ingestion notebook.\n",
    "This way the pipeline fails fast if the variance exceeds ±1%.\n",
    "\n",
    "- Reads the latest reconciliation log (es_contoso.monitor.dq_bronze_daily).\n",
    "- Filters on check_date = current_date().\n",
    "- Flags any brand where ABS(variance) > 0.01.\n",
    "- If found → raises an exception to stop the pipeline."
   ]
  },
  {
   "cell_type": "code",
   "execution_count": 0,
   "metadata": {
    "application/vnd.databricks.v1+cell": {
     "cellMetadata": {
      "byteLimit": 2048000,
      "rowLimit": 10000
     },
     "inputWidgets": {},
     "nuid": "bbe3e12d-9fc9-4725-97f8-f015f04606b3",
     "showTitle": false,
     "tableResultSettingsMap": {},
     "title": ""
    }
   },
   "outputs": [],
   "source": [
    "# Optional:  add a PySpark validation cell you can drop into your ingestion notebook.\n",
    "# This way the pipeline fails fast if the variance exceeds ±1%.\n",
    "\n",
    "from pyspark.sql import functions as F\n",
    "\n",
    "# 1. Load reconciliation results (today only)\n",
    "dq_df = (spark.read.table(\"es_contoso.monitor.dq_bronze_daily\")\n",
    "         .filter(F.col(\"check_date\") == F.current_date()))\n",
    "\n",
    "# 2. Find problematic brands (variance outside ±1%)\n",
    "violations = dq_df.filter(F.abs(F.col(\"variance\")) > 0.01)\n",
    "\n",
    "# 3. If violations exist → raise error\n",
    "if violations.count() > 0:\n",
    "    print(\"Data Quality check failed!\")\n",
    "    display(violations)\n",
    "    raise Exception(\"DQ Rule violated: variance between raw and bronze > 1%\")\n",
    "else:\n",
    "    print(\"Data Quality check passed (variance within ±1%)\")"
   ]
  },
  {
   "cell_type": "markdown",
   "metadata": {
    "application/vnd.databricks.v1+cell": {
     "cellMetadata": {},
     "inputWidgets": {},
     "nuid": "3b38dc90-61e2-41cb-9248-d08ba18be2dd",
     "showTitle": false,
     "tableResultSettingsMap": {},
     "title": ""
    }
   },
   "source": [
    "Runbook note\n",
    "- This validation cell should be added after the Bronze ingestion step.\n",
    "- If triggered, the job fails and alerts (if you connect the job failure to notifications).\n",
    "- Combined with the SQL alert we set up earlier, you have both:\n",
    "- Proactive monitoring (alerts in Databricks SQL / email).\n",
    "- Reactive protection (fail fast in notebooks)."
   ]
  },
  {
   "cell_type": "markdown",
   "metadata": {
    "application/vnd.databricks.v1+cell": {
     "cellMetadata": {},
     "inputWidgets": {},
     "nuid": "589f7825-d9b0-4422-9ea2-65ac15a2b9da",
     "showTitle": false,
     "tableResultSettingsMap": {},
     "title": ""
    }
   },
   "source": [
    "- Reconcile row counts between raw CSVs and Bronze Delta tables for each brand (EuroStyle, Contoso).\n",
    "  - Allow ±1% tolerance.\n",
    "  - Persist results into es_contoso.monitor.dq_bronze_daily.\n",
    "  - Optional extension: flag pass/fail in the log, so monitoring is self-contained."
   ]
  },
  {
   "cell_type": "code",
   "execution_count": 0,
   "metadata": {
    "application/vnd.databricks.v1+cell": {
     "cellMetadata": {
      "byteLimit": 2048000,
      "implicitDf": true,
      "rowLimit": 10000
     },
     "inputWidgets": {},
     "nuid": "f24c2e40-3c2f-4bfc-84d6-7879a0adea40",
     "showTitle": false,
     "tableResultSettingsMap": {},
     "title": ""
    }
   },
   "outputs": [],
   "source": [
    "%sql\n",
    "-- 1. Monitoring Table\n",
    "CREATE SCHEMA IF NOT EXISTS es_contoso.monitor;\n",
    "\n",
    "CREATE TABLE IF NOT EXISTS es_contoso.monitor.dq_bronze_daily (\n",
    "    brand STRING,\n",
    "    raw_count BIGINT,\n",
    "    bronze_count BIGINT,\n",
    "    variance DOUBLE,\n",
    "    status STRING,\n",
    "    check_date DATE\n",
    ") USING DELTA;\n",
    "\n",
    "\n"
   ]
  },
  {
   "cell_type": "code",
   "execution_count": 0,
   "metadata": {
    "application/vnd.databricks.v1+cell": {
     "cellMetadata": {
      "byteLimit": 2048000,
      "implicitDf": true,
      "rowLimit": 10000
     },
     "inputWidgets": {},
     "nuid": "b5d2e35c-8c75-4f7f-b3dc-0645c258cec2",
     "showTitle": false,
     "tableResultSettingsMap": {},
     "title": ""
    }
   },
   "outputs": [],
   "source": [
    "%sql\n",
    "DESCRIBE TABLE es_contoso.monitor.dq_bronze_daily;"
   ]
  },
  {
   "cell_type": "code",
   "execution_count": 0,
   "metadata": {
    "application/vnd.databricks.v1+cell": {
     "cellMetadata": {
      "byteLimit": 2048000,
      "rowLimit": 10000
     },
     "inputWidgets": {},
     "nuid": "026d9d45-d46c-4e6f-9597-508a4d088692",
     "showTitle": false,
     "tableResultSettingsMap": {},
     "title": ""
    }
   },
   "outputs": [],
   "source": [
    "from pyspark.sql.utils import AnalysisException\n",
    "\n",
    "# -- 1. Add dq_status column if it does not exist yet \n",
    "\n",
    "table = \"es_contoso.monitor.dq_bronze_daily\"\n",
    "cols = [c.name for c in spark.catalog.listColumns(table)]\n",
    "\n",
    "if \"dq_status\" not in cols:\n",
    "    spark.sql(f\"ALTER TABLE {table} ADD COLUMNS (dq_status STRING)\")\n",
    "else:\n",
    "    print(\"Column dq_status already exists, skipping.\")"
   ]
  },
  {
   "cell_type": "code",
   "execution_count": 0,
   "metadata": {
    "application/vnd.databricks.v1+cell": {
     "cellMetadata": {
      "byteLimit": 2048000,
      "implicitDf": true,
      "rowLimit": 10000
     },
     "inputWidgets": {},
     "nuid": "9c86931b-6bc6-49ba-8b65-fd3c57b94f08",
     "showTitle": false,
     "tableResultSettingsMap": {},
     "title": ""
    }
   },
   "outputs": [],
   "source": [
    "%sql\n",
    "-- 2. Reconciliation Insert – Contoso (correct column name = dq_status)\n",
    "-- Delete duplicates \n",
    "DELETE FROM es_contoso.monitor.dq_bronze_daily \n",
    "WHERE check_date = current_date();\n",
    "\n",
    "-- Contoso reconciliation insert\n",
    "INSERT INTO es_contoso.monitor.dq_bronze_daily (\n",
    "    brand,\n",
    "    raw_count,\n",
    "    bronze_count,\n",
    "    variance,\n",
    "    dq_status,\n",
    "    check_date\n",
    ")\n",
    "SELECT\n",
    "    'Contoso' AS brand,\n",
    "    raw_count,\n",
    "    bronze_count,\n",
    "    (bronze_count - raw_count) * 1.0 / raw_count AS variance,\n",
    "    CASE \n",
    "        WHEN ABS((bronze_count - raw_count) * 1.0 / raw_count) <= 0.01 THEN 'PASS'\n",
    "        ELSE 'FAIL'\n",
    "    END AS dq_status,\n",
    "    current_date() AS check_date\n",
    "FROM (\n",
    "    SELECT COUNT(*) AS raw_count\n",
    "    FROM csv.`abfss://raw@stescontosoma108.dfs.core.windows.net/contoso/online_retail_II.csv`\n",
    ") raw\n",
    "CROSS JOIN (\n",
    "    SELECT COUNT(*) AS bronze_count\n",
    "    FROM contoso.bronze.retail_contoso\n",
    ") bronze;\n",
    "\n",
    "-- EuroStyle reconciliation insert\n",
    "INSERT INTO es_contoso.monitor.dq_bronze_daily (\n",
    "    brand,\n",
    "    raw_count,\n",
    "    bronze_count,\n",
    "    variance,\n",
    "    dq_status,\n",
    "    check_date\n",
    ")\n",
    "SELECT\n",
    "    'EuroStyle' AS brand,\n",
    "    raw_count,\n",
    "    bronze_count,\n",
    "    (bronze_count - raw_count) * 1.0 / raw_count AS variance,\n",
    "    CASE \n",
    "        WHEN ABS((bronze_count - raw_count) * 1.0 / raw_count) <= 0.01 THEN 'PASS'\n",
    "        ELSE 'FAIL'\n",
    "    END AS dq_status,\n",
    "    current_date() AS check_date\n",
    "FROM (\n",
    "    SELECT COUNT(*) AS raw_count\n",
    "    FROM csv.`abfss://raw@stescontosoma108.dfs.core.windows.net/eurostyle/dataset_fashion_store_sales.csv`\n",
    ") raw\n",
    "CROSS JOIN (\n",
    "    SELECT COUNT(*) AS bronze_count\n",
    "    FROM eurostyle.bronze.sales_eurostyle\n",
    ") bronze;\n"
   ]
  },
  {
   "cell_type": "code",
   "execution_count": 0,
   "metadata": {
    "application/vnd.databricks.v1+cell": {
     "cellMetadata": {
      "byteLimit": 2048000,
      "implicitDf": true,
      "rowLimit": 10000
     },
     "inputWidgets": {},
     "nuid": "0f0bf5f0-e77a-4679-a057-c90a7807603a",
     "showTitle": false,
     "tableResultSettingsMap": {},
     "title": ""
    }
   },
   "outputs": [],
   "source": [
    "%sql\n",
    "-- 4. Validation Query\n",
    "SELECT * FROM es_contoso.monitor.dq_bronze_daily;"
   ]
  },
  {
   "cell_type": "markdown",
   "metadata": {
    "application/vnd.databricks.v1+cell": {
     "cellMetadata": {},
     "inputWidgets": {},
     "nuid": "e14a5915-3173-4fd4-8d52-ada0653ff1a6",
     "showTitle": false,
     "tableResultSettingsMap": {},
     "title": ""
    }
   },
   "source": [
    "Runbook Summary\n",
    "- For each brand, raw count vs bronze count is compared.\n",
    "- Variance ≤ 1% → PASS, else FAIL.\n",
    "- Results stored daily in es_contoso.monitor.dq_bronze_daily.\n",
    "- Alerts or pipeline checks can query for rows where status = 'FAIL'."
   ]
  },
  {
   "cell_type": "markdown",
   "metadata": {
    "application/vnd.databricks.v1+cell": {
     "cellMetadata": {},
     "inputWidgets": {},
     "nuid": "f8a23736-53ec-4abf-b399-833a1d7e3931",
     "showTitle": false,
     "tableResultSettingsMap": {},
     "title": ""
    }
   },
   "source": [
    "### 13) 🟥 Compute a basic DQ summary: null rates on keys, duplicate rate on `(order_id, sku, customer_id, order_date)`, top countries/currencies; publish a one-pager.  \n",
    "[DBX-DE-Prof][Monitoring-Logs]  \n",
    "\n",
    "Data Quality (DQ) Summary Steps\n",
    "For each brand (EuroStyle, Contoso), load the Bronze sales table.\n",
    "Compute the null rate for each business key: order_id, sku, customer_id, order_date.\n",
    "Compute the duplicate rate for the composite key (order_id, sku, customer_id, order_date).\n",
    "Identify the top 5 countries and top 5 currencies by transaction count.\n",
    "Publish a one-pager summary for each brand."
   ]
  },
  {
   "cell_type": "markdown",
   "metadata": {
    "application/vnd.databricks.v1+cell": {
     "cellMetadata": {},
     "inputWidgets": {},
     "nuid": "aeb4cad3-5a21-410b-ad78-a95407410fff",
     "showTitle": false,
     "tableResultSettingsMap": {},
     "title": ""
    }
   },
   "source": [
    "#### Spark version"
   ]
  },
  {
   "cell_type": "code",
   "execution_count": 0,
   "metadata": {
    "application/vnd.databricks.v1+cell": {
     "cellMetadata": {
      "byteLimit": 2048000,
      "rowLimit": 10000
     },
     "inputWidgets": {},
     "nuid": "c3ce768a-db56-4494-b326-e50b9d1b8163",
     "showTitle": false,
     "tableResultSettingsMap": {},
     "title": ""
    }
   },
   "outputs": [],
   "source": [
    "\n",
    "\n",
    "# Mapping brand -> vrai nom de table\n",
    "table_map = {\n",
    "    \"eurostyle\": \"eurostyle.bronze.sales_eurostyle\",\n",
    "    \"contoso\": \"contoso.bronze.v_sales_contoso\"   # ou sales_contoso_aligned si tu veux l'utiliser\n",
    "}\n",
    "\n",
    "dq_results = []\n",
    "\n",
    "for brand, table_name in table_map.items():\n",
    "    try:\n",
    "        df = spark.table(table_name)\n",
    "    except:\n",
    "        print(f\"Table {table_name} not found, skipping.\")\n",
    "        continue\n",
    "\n",
    "    key_cols = [\"order_id\", \"sku\", \"customer_id\", \"order_date\"]\n",
    "\n",
    "    total_rows = df.count()\n",
    "\n",
    "    # Null rates\n",
    "    null_rates = {\n",
    "        col: (df.filter(df[col].isNull()).count() / total_rows if total_rows else None)\n",
    "        if col in df.columns else None\n",
    "        for col in key_cols\n",
    "    }\n",
    "\n",
    "    # Duplicate rate\n",
    "    if all(col in df.columns for col in key_cols):\n",
    "        dup_count = (\n",
    "            df.groupBy(key_cols)\n",
    "            .count()\n",
    "            .filter(\"count > 1\")\n",
    "            .agg({\"count\": \"sum\"})\n",
    "            .collect()[0][0] or 0\n",
    "        )\n",
    "        duplicate_rate = dup_count / total_rows if total_rows else 0\n",
    "    else:\n",
    "        duplicate_rate = None\n",
    "\n",
    "    # Top countries\n",
    "    if \"country\" in df.columns:\n",
    "        top_countries = (\n",
    "            df.groupBy(\"country\")\n",
    "            .count()\n",
    "            .orderBy(\"count\", ascending=False)\n",
    "            .limit(5)\n",
    "            .toPandas()\n",
    "        )\n",
    "    else:\n",
    "        top_countries = None\n",
    "\n",
    "    # Top currencies\n",
    "    if \"currency\" in df.columns:\n",
    "        top_currencies = (\n",
    "            df.groupBy(\"currency\")\n",
    "            .count()\n",
    "            .orderBy(\"count\", ascending=False)\n",
    "            .limit(5)\n",
    "            .toPandas()\n",
    "        )\n",
    "    else:\n",
    "        top_currencies = None\n",
    "\n",
    "    dq_results.append({\n",
    "        \"brand\": brand,\n",
    "        \"null_rates\": null_rates,\n",
    "        \"duplicate_rate\": duplicate_rate,\n",
    "        \"top_countries\": top_countries,\n",
    "        \"top_currencies\": top_currencies\n",
    "    })"
   ]
  },
  {
   "cell_type": "code",
   "execution_count": 0,
   "metadata": {
    "application/vnd.databricks.v1+cell": {
     "cellMetadata": {
      "byteLimit": 2048000,
      "rowLimit": 10000
     },
     "inputWidgets": {},
     "nuid": "1a264cdb-60f6-47b6-86eb-872cc32885ed",
     "showTitle": false,
     "tableResultSettingsMap": {},
     "title": ""
    }
   },
   "outputs": [],
   "source": [
    "%python\n",
    "# To verify your results, display a summary DataFrame with the null and duplicate rates, and show the top countries and currencies for each brand. Here is the code to add after your cell:\n",
    "\n",
    "import pandas as pd\n",
    "\n",
    "# Summarize null and duplicate rates\n",
    "summary = []\n",
    "for r in dq_results:\n",
    "    summary.append({\n",
    "        \"Brand\": r[\"brand\"].capitalize(),\n",
    "        **{f\"NullRate_{k}\": v for k, v in r[\"null_rates\"].items()},\n",
    "        \"DuplicateRate\": r[\"duplicate_rate\"]\n",
    "    })\n",
    "summary_df = pd.DataFrame(summary)\n",
    "display(summary_df)\n",
    "\n",
    "# Display top countries and currencies for each brand\n",
    "for r in dq_results:\n",
    "    print(f\"Top countries for {r['brand'].capitalize()}:\")\n",
    "    display(r[\"top_countries\"])\n",
    "    print(f\"Top currencies for {r['brand'].capitalize()}:\")\n",
    "    display(r[\"top_currencies\"])"
   ]
  },
  {
   "cell_type": "markdown",
   "metadata": {
    "application/vnd.databricks.v1+cell": {
     "cellMetadata": {},
     "inputWidgets": {},
     "nuid": "42cd8091-7afc-4092-8ef2-00279e0d9788",
     "showTitle": false,
     "tableResultSettingsMap": {},
     "title": ""
    }
   },
   "source": [
    "#### SQL version"
   ]
  },
  {
   "cell_type": "code",
   "execution_count": 0,
   "metadata": {
    "application/vnd.databricks.v1+cell": {
     "cellMetadata": {
      "byteLimit": 2048000,
      "implicitDf": true,
      "rowLimit": 10000
     },
     "inputWidgets": {},
     "nuid": "ea2bdf3d-fb0b-45a3-b0b9-c8169aebb43e",
     "showTitle": false,
     "tableResultSettingsMap": {},
     "title": ""
    }
   },
   "outputs": [],
   "source": [
    "%sql\n",
    "-- 1. Check if the tables exist\n",
    "\n",
    "-- List all tables in Contoso Bronze schema\n",
    "SHOW TABLES IN contoso.bronze;\n",
    "\n",
    "-- List all tables in EuroStyle Bronze schema\n",
    "SHOW TABLES IN eurostyle.bronze;\n"
   ]
  },
  {
   "cell_type": "code",
   "execution_count": 0,
   "metadata": {
    "application/vnd.databricks.v1+cell": {
     "cellMetadata": {
      "byteLimit": 2048000,
      "implicitDf": true,
      "rowLimit": 10000
     },
     "inputWidgets": {},
     "nuid": "8a1b32a5-b908-4b22-8251-16b48733fbd4",
     "showTitle": false,
     "tableResultSettingsMap": {},
     "title": ""
    }
   },
   "outputs": [],
   "source": [
    "%sql\n",
    "-- 2. Inspect available columns\n",
    "-- Contoso\n",
    "DESCRIBE TABLE contoso.bronze.v_sales_contoso;\n",
    "\n",
    "-- EuroStyle\n",
    "DESCRIBE TABLE eurostyle.bronze.sales_eurostyle;\n"
   ]
  },
  {
   "cell_type": "code",
   "execution_count": 0,
   "metadata": {
    "application/vnd.databricks.v1+cell": {
     "cellMetadata": {
      "byteLimit": 2048000,
      "implicitDf": true,
      "rowLimit": 10000
     },
     "inputWidgets": {},
     "nuid": "3c971720-8b97-4bd3-ab58-4961eab8b455",
     "showTitle": false,
     "tableResultSettingsMap": {},
     "title": ""
    }
   },
   "outputs": [],
   "source": [
    "%sql\n",
    "-- 3. Data Quality Checks in SQL\n",
    "-- a) Null rates on business keys\n",
    "\n",
    "-- Example for Contoso\n",
    "SELECT\n",
    "  SUM(CASE WHEN invoice_no IS NULL THEN 1 ELSE 0 END) * 1.0 / COUNT(*) AS null_rate_invoice_no,\n",
    "  SUM(CASE WHEN stock_code IS NULL THEN 1 ELSE 0 END) * 1.0 / COUNT(*) AS null_rate_sku,\n",
    "  SUM(CASE WHEN customer_id IS NULL THEN 1 ELSE 0 END) * 1.0 / COUNT(*) AS null_rate_customer_id,\n",
    "  SUM(CASE WHEN invoice_date IS NULL THEN 1 ELSE 0 END) * 1.0 / COUNT(*) AS null_rate_order_date\n",
    "FROM contoso.bronze.v_sales_contoso;\n",
    "\n",
    "-- b) Duplicate rate on (order_id, sku, customer_id, order_date)\n",
    "-- (mapping: invoice_no = order_id, stock_code = sku)\n",
    "\n",
    "SELECT\n",
    "  COUNT(*) AS total_rows,\n",
    "  SUM(CASE WHEN cnt > 1 THEN cnt ELSE 0 END) AS duplicate_rows,\n",
    "  SUM(CASE WHEN cnt > 1 THEN cnt ELSE 0 END) * 1.0 / COUNT(*) AS duplicate_rate\n",
    "FROM (\n",
    "  SELECT invoice_no, stock_code, customer_id, invoice_date, COUNT(*) AS cnt\n",
    "  FROM contoso.bronze.v_sales_contoso\n",
    "  GROUP BY invoice_no, stock_code, customer_id, invoice_date\n",
    ");\n"
   ]
  },
  {
   "cell_type": "code",
   "execution_count": 0,
   "metadata": {
    "application/vnd.databricks.v1+cell": {
     "cellMetadata": {
      "byteLimit": 2048000,
      "implicitDf": true,
      "rowLimit": 10000
     },
     "inputWidgets": {},
     "nuid": "5bfdfe30-d74e-4daa-8e4e-8be93bbee3f3",
     "showTitle": false,
     "tableResultSettingsMap": {},
     "title": ""
    }
   },
   "outputs": [],
   "source": [
    "%sql\n",
    "-- c) Top 5 countries by transaction count\n",
    "SELECT country, COUNT(*) AS cnt\n",
    "FROM contoso.bronze.v_sales_contoso\n",
    "GROUP BY country\n",
    "ORDER BY cnt DESC\n",
    "LIMIT 5;"
   ]
  },
  {
   "cell_type": "code",
   "execution_count": 0,
   "metadata": {
    "application/vnd.databricks.v1+cell": {
     "cellMetadata": {
      "byteLimit": 2048000,
      "implicitDf": true,
      "rowLimit": 10000
     },
     "inputWidgets": {},
     "nuid": "579c48c9-bf17-49e1-9448-922d5c177968",
     "showTitle": false,
     "tableResultSettingsMap": {},
     "title": ""
    }
   },
   "outputs": [],
   "source": [
    "%sql\n",
    "-- d) Top 5 sales channels by transaction count (EuroStyle has 'channel')\n",
    "SELECT channel, COUNT(*) AS cnt\n",
    "FROM eurostyle.bronze.sales_eurostyle\n",
    "GROUP BY channel\n",
    "ORDER BY cnt DESC\n",
    "LIMIT 5;"
   ]
  },
  {
   "cell_type": "markdown",
   "metadata": {
    "application/vnd.databricks.v1+cell": {
     "cellMetadata": {},
     "inputWidgets": {},
     "nuid": "c16c4f65-7f32-4321-8238-a8f1928e04c6",
     "showTitle": false,
     "tableResultSettingsMap": {},
     "title": ""
    }
   },
   "source": [
    "### 14) 🟥 Enforce basic Delta constraints where feasible (NOT NULL on business keys, simple CHECKs); record violations.  \n",
    "[DBX-DE-Assoc][Delta-Basics]  \n",
    "\n"
   ]
  },
  {
   "cell_type": "code",
   "execution_count": 0,
   "metadata": {
    "application/vnd.databricks.v1+cell": {
     "cellMetadata": {},
     "inputWidgets": {},
     "nuid": "4f7e6cba-c0c6-4d81-89be-8ad31851c60f",
     "showTitle": false,
     "tableResultSettingsMap": {},
     "title": ""
    }
   },
   "outputs": [],
   "source": []
  },
  {
   "cell_type": "markdown",
   "metadata": {
    "application/vnd.databricks.v1+cell": {
     "cellMetadata": {},
     "inputWidgets": {},
     "nuid": "5a1dd9e0-0bac-42d6-ac6b-580a2e3b3695",
     "showTitle": false,
     "tableResultSettingsMap": {},
     "title": ""
    }
   },
   "source": [
    "### 15) 🟥 [DBX-DE-Assoc][Delta-MERGE][Delta-Basics][Medallion]  \n",
    "Implement an idempotent re-run strategy (deterministic overwrite by date window via `replaceWhere` or `MERGE` on business keys) and verify repeatability.  "
   ]
  },
  {
   "cell_type": "code",
   "execution_count": 0,
   "metadata": {
    "application/vnd.databricks.v1+cell": {
     "cellMetadata": {
      "byteLimit": 2048000,
      "rowLimit": 10000
     },
     "inputWidgets": {},
     "nuid": "ea83a451-ba31-420b-9046-2c887d305f58",
     "showTitle": false,
     "tableResultSettingsMap": {},
     "title": ""
    }
   },
   "outputs": [],
   "source": [
    "%sh\n",
    "cd \"$DATABRICKS_REPO_ROOT\"\n",
    "git status"
   ]
  }
 ],
 "metadata": {
  "application/vnd.databricks.v1+notebook": {
   "computePreferences": null,
   "dashboards": [],
   "environmentMetadata": {
    "base_environment": "",
    "environment_version": "3"
   },
   "inputWidgetPreferences": null,
   "language": "python",
   "notebookMetadata": {
    "mostRecentlyExecutedCommandWithImplicitDF": {
     "commandId": 5191397629746496,
     "dataframes": [
      "_sqldf"
     ]
    },
    "pythonIndentUnit": 4
   },
   "notebookName": "feature-11-12-13-raw-bronze-silver-gold",
   "widgets": {
    "brands": {
     "currentValue": "contoso,eurostyle",
     "nuid": "666451c7-397e-4c82-bccf-4423d9400924",
     "typedWidgetInfo": {
      "autoCreated": false,
      "defaultValue": "contoso,eurostyle",
      "label": "Brands CSV list",
      "name": "brands",
      "options": {
       "widgetDisplayType": "Text",
       "validationRegex": null
      },
      "parameterDataType": "String"
     },
     "widgetInfo": {
      "widgetType": "text",
      "defaultValue": "contoso,eurostyle",
      "label": "Brands CSV list",
      "name": "brands",
      "options": {
       "widgetType": "text",
       "autoCreated": null,
       "validationRegex": null
      }
     }
    },
    "catalog": {
     "currentValue": "",
     "nuid": "6dbdf331-e3d2-41ae-a075-92e0d154d909",
     "typedWidgetInfo": {
      "autoCreated": false,
      "defaultValue": "",
      "label": "Unity Catalog (optional)",
      "name": "catalog",
      "options": {
       "widgetDisplayType": "Text",
       "validationRegex": null
      },
      "parameterDataType": "String"
     },
     "widgetInfo": {
      "widgetType": "text",
      "defaultValue": "",
      "label": "Unity Catalog (optional)",
      "name": "catalog",
      "options": {
       "widgetType": "text",
       "autoCreated": null,
       "validationRegex": null
      }
     }
    },
    "env_prefix": {
     "currentValue": "",
     "nuid": "27d4f3e7-544e-4147-bb0f-64c3bfbc52bf",
     "typedWidgetInfo": {
      "autoCreated": false,
      "defaultValue": "",
      "label": "Env prefix (short)",
      "name": "env_prefix",
      "options": {
       "widgetDisplayType": "Text",
       "validationRegex": null
      },
      "parameterDataType": "String"
     },
     "widgetInfo": {
      "widgetType": "text",
      "defaultValue": "",
      "label": "Env prefix (short)",
      "name": "env_prefix",
      "options": {
       "widgetType": "text",
       "autoCreated": null,
       "validationRegex": null
      }
     }
    },
    "full_reload": {
     "currentValue": "false",
     "nuid": "17a9518a-b94a-4d2e-aae8-1876f6aa49b7",
     "typedWidgetInfo": {
      "autoCreated": false,
      "defaultValue": "false",
      "label": "Full reload?",
      "name": "full_reload",
      "options": {
       "widgetDisplayType": "Text",
       "validationRegex": null
      },
      "parameterDataType": "String"
     },
     "widgetInfo": {
      "widgetType": "text",
      "defaultValue": "false",
      "label": "Full reload?",
      "name": "full_reload",
      "options": {
       "widgetType": "text",
       "autoCreated": null,
       "validationRegex": null
      }
     }
    }
   }
  },
  "language_info": {
   "name": "python"
  }
 },
 "nbformat": 4,
 "nbformat_minor": 0
}
